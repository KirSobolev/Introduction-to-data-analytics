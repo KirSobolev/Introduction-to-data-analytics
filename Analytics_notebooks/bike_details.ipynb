{
 "cells": [
  {
   "attachments": {},
   "cell_type": "markdown",
   "metadata": {},
   "source": [
    "# Dataset name / short description:"
   ]
  },
  {
   "attachments": {},
   "cell_type": "markdown",
   "metadata": {},
   "source": [
    "Motorcycle dataset\n",
    "This dataset contains information about used motorcycles. Last update (same as publish year?) in 2020. Dataset was made by webscraping.\n",
    "This data can be used for a lot of purposes such as price prediction to exemplify the use of linear regression in Machine Learning."
   ]
  },
  {
   "attachments": {},
   "cell_type": "markdown",
   "metadata": {},
   "source": [
    "# Data source (url):"
   ]
  },
  {
   "attachments": {},
   "cell_type": "markdown",
   "metadata": {},
   "source": [
    "https://www.kaggle.com/datasets/nehalbirla/motorcycle-dataset?resource=download"
   ]
  },
  {
   "attachments": {},
   "cell_type": "markdown",
   "metadata": {},
   "source": [
    "# Data format:"
   ]
  },
  {
   "attachments": {},
   "cell_type": "markdown",
   "metadata": {},
   "source": [
    "Dataset is originally a .csv file"
   ]
  },
  {
   "cell_type": "markdown",
   "metadata": {},
   "source": [
    "# Data description and limitations:"
   ]
  },
  {
   "cell_type": "markdown",
   "metadata": {},
   "source": [
    "| Feature | Type | Description |\n",
    "|----------|----------|----------|\n",
    "| name   | str   | Name of the motorcycle   |\n",
    "| selling price   | int   | Price at which seller is selling the motorcycle   |\n",
    "| year   | int   | Year in which bike was bought   |\n",
    "| seller type   | str, categorical (binary)   | Tells if a Seller is Individual or a Dealer   |\n",
    "| owner   | str   | Number of previous owners of the vehicle.   |\n",
    "| km driven   | int   | Number of kilometre motorcycle has traveled   |\n",
    "| ex showroom price   | int   | Showroom price of the motorcycle   |\n",
    "\n",
    "Limitations:\n",
    "1. We only have one thousand rows\n",
    "2. Almost half of the values in ex_showroom_price is missing, which might be hard to deal with\n",
    "3. We don't have any information about technical characteristics of the motorcycles.\n",
    "4. We don't have any information about motorcycle condition\n",
    "5. Name column also includes name of manufacturer. It is possible to extract and then target encode for further ML uses, but it might be quite hard.\n"
   ]
  },
  {
   "attachments": {},
   "cell_type": "markdown",
   "metadata": {},
   "source": [
    "# Code: importing modules, custom functions and loading the data"
   ]
  },
  {
   "cell_type": "code",
   "execution_count": 5,
   "metadata": {},
   "outputs": [
    {
     "name": "stdout",
     "output_type": "stream",
     "text": [
      "Requirement already satisfied: scikit-learn in c:\\users\\kiril\\appdata\\local\\programs\\python\\python39\\lib\\site-packages (1.6.1)\n",
      "Requirement already satisfied: numpy>=1.19.5 in c:\\users\\kiril\\appdata\\local\\programs\\python\\python39\\lib\\site-packages (from scikit-learn) (1.26.4)\n",
      "Requirement already satisfied: scipy>=1.6.0 in c:\\users\\kiril\\appdata\\local\\programs\\python\\python39\\lib\\site-packages (from scikit-learn) (1.13.1)\n",
      "Requirement already satisfied: joblib>=1.2.0 in c:\\users\\kiril\\appdata\\local\\programs\\python\\python39\\lib\\site-packages (from scikit-learn) (1.2.0)\n",
      "Requirement already satisfied: threadpoolctl>=3.1.0 in c:\\users\\kiril\\appdata\\local\\programs\\python\\python39\\lib\\site-packages (from scikit-learn) (3.1.0)\n",
      "Note: you may need to restart the kernel to use updated packages.\n"
     ]
    }
   ],
   "source": [
    "%pip install scikit-learn"
   ]
  },
  {
   "cell_type": "code",
   "execution_count": 6,
   "metadata": {},
   "outputs": [],
   "source": [
    "import pandas as pd\n",
    "import numpy as np\n",
    "from sklearn.impute import KNNImputer\n",
    "import seaborn as sns\n",
    "import matplotlib.pyplot as plt\n",
    "# Load data\n",
    "df = pd.read_csv(\"BIKE DETAILS.csv\")\n"
   ]
  },
  {
   "attachments": {},
   "cell_type": "markdown",
   "metadata": {},
   "source": [
    "# Code: Data clean-up procedure\n"
   ]
  },
  {
   "cell_type": "code",
   "execution_count": 7,
   "metadata": {},
   "outputs": [
    {
     "name": "stderr",
     "output_type": "stream",
     "text": [
      "C:\\Users\\kiril\\AppData\\Local\\Temp\\ipykernel_8896\\665077774.py:5: FutureWarning: Downcasting behavior in `replace` is deprecated and will be removed in a future version. To retain the old behavior, explicitly call `result.infer_objects(copy=False)`. To opt-in to the future behavior, set `pd.set_option('future.no_silent_downcasting', True)`\n",
      "  df[\"seller_type\"] = df.seller_type.replace(seller_types)\n"
     ]
    }
   ],
   "source": [
    "# First of all let's deal with strings and convert them to integers\n",
    "# Replace strings with numbers\n",
    "seller_types = {\"Individual\" : 1,\n",
    "                \"Dealer\" : 2}\n",
    "df[\"seller_type\"] = df.seller_type.replace(seller_types)\n",
    "\n",
    "# Keep only numbers from owner column\n",
    "df[\"owner\"] = df[\"owner\"].str.extract(r'(\\d+)').astype(int)"
   ]
  },
  {
   "cell_type": "code",
   "execution_count": 8,
   "metadata": {},
   "outputs": [],
   "source": [
    "# It is possible to extract manufacturer from the name of the bike\n",
    "\n",
    "unique_names = df.name.unique()\n",
    "# Common two-word brands\n",
    "two_word_brands = ['Royal Enfield', 'Hero Honda']\n",
    "\n",
    "def extract_manufacturer(name):\n",
    "    # Check two-word brands first\n",
    "    for brand in two_word_brands:\n",
    "        if name.startswith(brand):\n",
    "            return brand\n",
    "    # Otherwise, first word\n",
    "    return name.split()[0]\n",
    "\n",
    "# Create dictionary\n",
    "manufacturer_dict = {name: extract_manufacturer(name) for name in unique_names}\n",
    "\n",
    "# Create new column with only manufacturer name\n",
    "df[\"manufacturer\"] = df[\"name\"].replace(manufacturer_dict)\n",
    "# Drop the full name\n",
    "df = df.drop(columns=\"name\")"
   ]
  },
  {
   "cell_type": "code",
   "execution_count": 9,
   "metadata": {},
   "outputs": [
    {
     "data": {
      "text/plain": [
       "21"
      ]
     },
     "execution_count": 9,
     "metadata": {},
     "output_type": "execute_result"
    }
   ],
   "source": [
    "# Check how many manufacturers there are\n",
    "len(df.manufacturer.unique())"
   ]
  },
  {
   "cell_type": "code",
   "execution_count": 10,
   "metadata": {},
   "outputs": [],
   "source": [
    "# Now, we can change the manufacturer name to target encoded number \n",
    "# (mean selling price for each manufacturer)\n",
    "target_mean = round(df.groupby(\"manufacturer\")[\"selling_price\"].mean(), 1)\n",
    "\n",
    "# We will keep the string version for now, because it is easier to understand visualizations when it's written in human language\n",
    "df[\"manufacturer_encoded\"] = df[\"manufacturer\"].map(target_mean)"
   ]
  },
  {
   "cell_type": "code",
   "execution_count": 11,
   "metadata": {},
   "outputs": [
    {
     "name": "stdout",
     "output_type": "stream",
     "text": [
      "Missing values: 435\n",
      "Total rows: 1061\n"
     ]
    }
   ],
   "source": [
    "# Let's deal with missing values in ex_showroom_price\n",
    "print(f\"Missing values: {df.ex_showroom_price.isna().sum()}\")\n",
    "print(f\"Total rows: {len(df)}\")"
   ]
  },
  {
   "cell_type": "code",
   "execution_count": 12,
   "metadata": {},
   "outputs": [],
   "source": [
    "# 40% would be too painfull to delete\n",
    "# What we could do is try to impute missing value with \"smart\" model based imputation\n",
    "# It is possible to use already existing automatic imputers\n",
    "# Or even make a custom model that would predict missing values based on other parameters\n",
    "# e.g. XGBoost predicting missing values based on price and year\n",
    "\n",
    "# Keep the track whether or not value was imputed:\n",
    "df[\"Imputed\"] = df[\"ex_showroom_price\"].isna()\n",
    "\n",
    "imputer = KNNImputer(n_neighbors=2)\n",
    "# Select numeric columns\n",
    "numeric_cols = df.select_dtypes(include=\"number\").columns\n",
    "# Fit and transform \n",
    "df[numeric_cols] = imputer.fit_transform(df[numeric_cols])\n"
   ]
  },
  {
   "cell_type": "code",
   "execution_count": 13,
   "metadata": {},
   "outputs": [
    {
     "data": {
      "application/vnd.microsoft.datawrangler.viewer.v0+json": {
       "columns": [
        {
         "name": "index",
         "rawType": "int64",
         "type": "integer"
        },
        {
         "name": "selling_price",
         "rawType": "float64",
         "type": "float"
        },
        {
         "name": "year",
         "rawType": "float64",
         "type": "float"
        },
        {
         "name": "seller_type",
         "rawType": "float64",
         "type": "float"
        },
        {
         "name": "owner",
         "rawType": "float64",
         "type": "float"
        },
        {
         "name": "km_driven",
         "rawType": "float64",
         "type": "float"
        },
        {
         "name": "ex_showroom_price",
         "rawType": "float64",
         "type": "float"
        },
        {
         "name": "manufacturer",
         "rawType": "object",
         "type": "string"
        },
        {
         "name": "manufacturer_encoded",
         "rawType": "float64",
         "type": "float"
        },
        {
         "name": "Imputed",
         "rawType": "bool",
         "type": "boolean"
        }
       ],
       "ref": "12952c4f-29f9-41fe-bef6-294ee8e8decb",
       "rows": [
        [
         "0",
         "175000.0",
         "2019.0",
         "1.0",
         "1.0",
         "350.0",
         "169057.0",
         "Royal Enfield",
         "128549.5",
         "True"
        ],
        [
         "1",
         "45000.0",
         "2017.0",
         "1.0",
         "1.0",
         "5650.0",
         "58313.0",
         "Honda",
         "44916.0",
         "True"
        ],
        [
         "2",
         "150000.0",
         "2018.0",
         "1.0",
         "1.0",
         "12000.0",
         "148114.0",
         "Royal Enfield",
         "128549.5",
         "False"
        ],
        [
         "3",
         "65000.0",
         "2015.0",
         "1.0",
         "1.0",
         "23000.0",
         "89643.0",
         "Yamaha",
         "63656.9",
         "False"
        ],
        [
         "4",
         "20000.0",
         "2011.0",
         "1.0",
         "2.0",
         "21000.0",
         "49373.0",
         "Yamaha",
         "63656.9",
         "True"
        ],
        [
         "5",
         "18000.0",
         "2010.0",
         "1.0",
         "1.0",
         "60000.0",
         "53857.0",
         "Honda",
         "44916.0",
         "False"
        ],
        [
         "6",
         "78500.0",
         "2018.0",
         "1.0",
         "1.0",
         "17000.0",
         "87719.0",
         "Honda",
         "44916.0",
         "False"
        ],
        [
         "7",
         "180000.0",
         "2008.0",
         "1.0",
         "2.0",
         "39000.0",
         "164779.5",
         "Royal Enfield",
         "128549.5",
         "True"
        ],
        [
         "8",
         "30000.0",
         "2010.0",
         "1.0",
         "1.0",
         "32000.0",
         "64396.5",
         "Hero Honda",
         "24525.0",
         "True"
        ],
        [
         "9",
         "50000.0",
         "2016.0",
         "1.0",
         "1.0",
         "42000.0",
         "60122.0",
         "Bajaj",
         "44990.4",
         "False"
        ],
        [
         "10",
         "35000.0",
         "2015.0",
         "1.0",
         "1.0",
         "32000.0",
         "78712.0",
         "Yamaha",
         "63656.9",
         "False"
        ],
        [
         "11",
         "28000.0",
         "2016.0",
         "1.0",
         "2.0",
         "10000.0",
         "47255.0",
         "Honda",
         "44916.0",
         "False"
        ],
        [
         "12",
         "80000.0",
         "2018.0",
         "1.0",
         "1.0",
         "21178.0",
         "95955.0",
         "Bajaj",
         "44990.4",
         "False"
        ],
        [
         "13",
         "365000.0",
         "2019.0",
         "1.0",
         "1.0",
         "1127.0",
         "351680.0",
         "Yamaha",
         "63656.9",
         "False"
        ],
        [
         "14",
         "185000.0",
         "2020.0",
         "1.0",
         "1.0",
         "1700.0",
         "192063.5",
         "Jawa",
         "175000.0",
         "True"
        ],
        [
         "15",
         "25000.0",
         "2012.0",
         "1.0",
         "1.0",
         "55000.0",
         "58314.0",
         "Suzuki",
         "73800.0",
         "False"
        ],
        [
         "16",
         "25000.0",
         "2006.0",
         "1.0",
         "1.0",
         "27000.0",
         "54960.0",
         "Hero Honda",
         "24525.0",
         "True"
        ],
        [
         "17",
         "40000.0",
         "2010.0",
         "1.0",
         "2.0",
         "45000.0",
         "117926.0",
         "Yamaha",
         "63656.9",
         "False"
        ],
        [
         "18",
         "150000.0",
         "2018.0",
         "1.0",
         "1.0",
         "23000.0",
         "148114.0",
         "Royal Enfield",
         "128549.5",
         "False"
        ],
        [
         "19",
         "120000.0",
         "2018.0",
         "1.0",
         "1.0",
         "39000.0",
         "132680.0",
         "Yamaha",
         "63656.9",
         "False"
        ],
        [
         "20",
         "15000.0",
         "2008.0",
         "1.0",
         "1.0",
         "60000.0",
         "52062.0",
         "Hero",
         "40762.5",
         "True"
        ],
        [
         "21",
         "26000.0",
         "2016.0",
         "1.0",
         "1.0",
         "17450.0",
         "44389.0",
         "Honda",
         "44916.0",
         "False"
        ],
        [
         "22",
         "32000.0",
         "2013.0",
         "1.0",
         "2.0",
         "20696.0",
         "53900.0",
         "Honda",
         "44916.0",
         "False"
        ],
        [
         "23",
         "180000.0",
         "2019.0",
         "1.0",
         "1.0",
         "2000.0",
         "192063.5",
         "Jawa",
         "175000.0",
         "True"
        ],
        [
         "24",
         "110000.0",
         "2016.0",
         "1.0",
         "1.0",
         "20000.0",
         "147000.0",
         "Royal Enfield",
         "128549.5",
         "True"
        ],
        [
         "25",
         "25000.0",
         "2012.0",
         "1.0",
         "1.0",
         "35000.0",
         "56147.0",
         "Honda",
         "44916.0",
         "False"
        ],
        [
         "26",
         "80000.0",
         "2018.0",
         "1.0",
         "1.0",
         "15210.0",
         "87719.0",
         "TVS",
         "46374.0",
         "True"
        ],
        [
         "27",
         "42000.0",
         "2017.0",
         "1.0",
         "1.0",
         "24000.0",
         "44389.0",
         "Honda",
         "44916.0",
         "False"
        ],
        [
         "28",
         "40000.0",
         "2013.0",
         "1.0",
         "3.0",
         "35000.0",
         "84751.0",
         "Yamaha",
         "63656.9",
         "False"
        ],
        [
         "29",
         "21000.0",
         "2009.0",
         "1.0",
         "1.0",
         "10000.0",
         "47337.5",
         "Hero Honda",
         "24525.0",
         "True"
        ],
        [
         "30",
         "55000.0",
         "2017.0",
         "1.0",
         "1.0",
         "2500.0",
         "61600.0",
         "Hero",
         "40762.5",
         "False"
        ],
        [
         "31",
         "38000.0",
         "2013.0",
         "1.0",
         "1.0",
         "75000.0",
         "79432.0",
         "Yamaha",
         "63656.9",
         "False"
        ],
        [
         "32",
         "43000.0",
         "2016.0",
         "1.0",
         "2.0",
         "50000.0",
         "78350.0",
         "Hero",
         "40762.5",
         "False"
        ],
        [
         "33",
         "65000.0",
         "2018.0",
         "1.0",
         "1.0",
         "27000.0",
         "80256.5",
         "Honda",
         "44916.0",
         "True"
        ],
        [
         "34",
         "62000.0",
         "2019.0",
         "1.0",
         "1.0",
         "10000.0",
         "71049.0",
         "Honda",
         "44916.0",
         "False"
        ],
        [
         "35",
         "60000.0",
         "2018.0",
         "1.0",
         "1.0",
         "6502.0",
         "57557.0",
         "Honda",
         "44916.0",
         "False"
        ],
        [
         "36",
         "45000.0",
         "2018.0",
         "1.0",
         "1.0",
         "21000.0",
         "61600.0",
         "Hero",
         "40762.5",
         "False"
        ],
        [
         "37",
         "120000.0",
         "2016.0",
         "1.0",
         "1.0",
         "16000.0",
         "202310.0",
         "Honda",
         "44916.0",
         "False"
        ],
        [
         "38",
         "30000.0",
         "2011.0",
         "1.0",
         "1.0",
         "42000.0",
         "51736.0",
         "Hero Honda",
         "24525.0",
         "True"
        ],
        [
         "39",
         "90000.0",
         "2015.0",
         "1.0",
         "3.0",
         "13000.0",
         "178222.5",
         "Royal Enfield",
         "128549.5",
         "True"
        ],
        [
         "40",
         "125000.0",
         "2017.0",
         "1.0",
         "1.0",
         "12800.0",
         "165986.0",
         "Bajaj",
         "44990.4",
         "True"
        ],
        [
         "41",
         "50000.0",
         "2018.0",
         "1.0",
         "1.0",
         "20000.0",
         "71150.0",
         "Hero",
         "40762.5",
         "False"
        ],
        [
         "42",
         "175000.0",
         "2017.0",
         "1.0",
         "1.0",
         "4600.0",
         "192063.5",
         "KTM",
         "155708.3",
         "True"
        ],
        [
         "43",
         "28000.0",
         "2012.0",
         "1.0",
         "1.0",
         "81000.0",
         "56750.0",
         "Hero",
         "40762.5",
         "False"
        ],
        [
         "44",
         "85000.0",
         "2018.0",
         "1.0",
         "1.0",
         "8000.0",
         "84042.0",
         "Yamaha",
         "63656.9",
         "False"
        ],
        [
         "45",
         "29900.0",
         "2016.0",
         "1.0",
         "1.0",
         "55000.0",
         "69750.0",
         "Hero",
         "40762.5",
         "False"
        ],
        [
         "46",
         "25000.0",
         "2011.0",
         "1.0",
         "1.0",
         "57000.0",
         "60122.0",
         "Bajaj",
         "44990.4",
         "False"
        ],
        [
         "47",
         "30000.0",
         "2009.0",
         "1.0",
         "2.0",
         "26000.0",
         "78712.0",
         "Yamaha",
         "63656.9",
         "False"
        ],
        [
         "48",
         "60000.0",
         "2018.0",
         "1.0",
         "1.0",
         "13000.0",
         "59844.0",
         "Yamaha",
         "63656.9",
         "False"
        ],
        [
         "49",
         "35000.0",
         "2012.0",
         "1.0",
         "2.0",
         "29000.0",
         "78712.0",
         "Yamaha",
         "63656.9",
         "False"
        ]
       ],
       "shape": {
        "columns": 9,
        "rows": 1053
       }
      },
      "text/html": [
       "<div>\n",
       "<style scoped>\n",
       "    .dataframe tbody tr th:only-of-type {\n",
       "        vertical-align: middle;\n",
       "    }\n",
       "\n",
       "    .dataframe tbody tr th {\n",
       "        vertical-align: top;\n",
       "    }\n",
       "\n",
       "    .dataframe thead th {\n",
       "        text-align: right;\n",
       "    }\n",
       "</style>\n",
       "<table border=\"1\" class=\"dataframe\">\n",
       "  <thead>\n",
       "    <tr style=\"text-align: right;\">\n",
       "      <th></th>\n",
       "      <th>selling_price</th>\n",
       "      <th>year</th>\n",
       "      <th>seller_type</th>\n",
       "      <th>owner</th>\n",
       "      <th>km_driven</th>\n",
       "      <th>ex_showroom_price</th>\n",
       "      <th>manufacturer</th>\n",
       "      <th>manufacturer_encoded</th>\n",
       "      <th>Imputed</th>\n",
       "    </tr>\n",
       "  </thead>\n",
       "  <tbody>\n",
       "    <tr>\n",
       "      <th>0</th>\n",
       "      <td>175000.0</td>\n",
       "      <td>2019.0</td>\n",
       "      <td>1.0</td>\n",
       "      <td>1.0</td>\n",
       "      <td>350.0</td>\n",
       "      <td>169057.0</td>\n",
       "      <td>Royal Enfield</td>\n",
       "      <td>128549.5</td>\n",
       "      <td>True</td>\n",
       "    </tr>\n",
       "    <tr>\n",
       "      <th>1</th>\n",
       "      <td>45000.0</td>\n",
       "      <td>2017.0</td>\n",
       "      <td>1.0</td>\n",
       "      <td>1.0</td>\n",
       "      <td>5650.0</td>\n",
       "      <td>58313.0</td>\n",
       "      <td>Honda</td>\n",
       "      <td>44916.0</td>\n",
       "      <td>True</td>\n",
       "    </tr>\n",
       "    <tr>\n",
       "      <th>2</th>\n",
       "      <td>150000.0</td>\n",
       "      <td>2018.0</td>\n",
       "      <td>1.0</td>\n",
       "      <td>1.0</td>\n",
       "      <td>12000.0</td>\n",
       "      <td>148114.0</td>\n",
       "      <td>Royal Enfield</td>\n",
       "      <td>128549.5</td>\n",
       "      <td>False</td>\n",
       "    </tr>\n",
       "    <tr>\n",
       "      <th>3</th>\n",
       "      <td>65000.0</td>\n",
       "      <td>2015.0</td>\n",
       "      <td>1.0</td>\n",
       "      <td>1.0</td>\n",
       "      <td>23000.0</td>\n",
       "      <td>89643.0</td>\n",
       "      <td>Yamaha</td>\n",
       "      <td>63656.9</td>\n",
       "      <td>False</td>\n",
       "    </tr>\n",
       "    <tr>\n",
       "      <th>4</th>\n",
       "      <td>20000.0</td>\n",
       "      <td>2011.0</td>\n",
       "      <td>1.0</td>\n",
       "      <td>2.0</td>\n",
       "      <td>21000.0</td>\n",
       "      <td>49373.0</td>\n",
       "      <td>Yamaha</td>\n",
       "      <td>63656.9</td>\n",
       "      <td>True</td>\n",
       "    </tr>\n",
       "    <tr>\n",
       "      <th>...</th>\n",
       "      <td>...</td>\n",
       "      <td>...</td>\n",
       "      <td>...</td>\n",
       "      <td>...</td>\n",
       "      <td>...</td>\n",
       "      <td>...</td>\n",
       "      <td>...</td>\n",
       "      <td>...</td>\n",
       "      <td>...</td>\n",
       "    </tr>\n",
       "    <tr>\n",
       "      <th>1056</th>\n",
       "      <td>17000.0</td>\n",
       "      <td>2010.0</td>\n",
       "      <td>1.0</td>\n",
       "      <td>1.0</td>\n",
       "      <td>500000.0</td>\n",
       "      <td>52000.0</td>\n",
       "      <td>Activa</td>\n",
       "      <td>34000.0</td>\n",
       "      <td>False</td>\n",
       "    </tr>\n",
       "    <tr>\n",
       "      <th>1057</th>\n",
       "      <td>16000.0</td>\n",
       "      <td>2012.0</td>\n",
       "      <td>1.0</td>\n",
       "      <td>1.0</td>\n",
       "      <td>33000.0</td>\n",
       "      <td>51000.0</td>\n",
       "      <td>Honda</td>\n",
       "      <td>44916.0</td>\n",
       "      <td>False</td>\n",
       "    </tr>\n",
       "    <tr>\n",
       "      <th>1058</th>\n",
       "      <td>15000.0</td>\n",
       "      <td>2013.0</td>\n",
       "      <td>1.0</td>\n",
       "      <td>2.0</td>\n",
       "      <td>35000.0</td>\n",
       "      <td>57000.0</td>\n",
       "      <td>Bajaj</td>\n",
       "      <td>44990.4</td>\n",
       "      <td>False</td>\n",
       "    </tr>\n",
       "    <tr>\n",
       "      <th>1059</th>\n",
       "      <td>12000.0</td>\n",
       "      <td>2009.0</td>\n",
       "      <td>1.0</td>\n",
       "      <td>1.0</td>\n",
       "      <td>53000.0</td>\n",
       "      <td>58000.0</td>\n",
       "      <td>Honda</td>\n",
       "      <td>44916.0</td>\n",
       "      <td>False</td>\n",
       "    </tr>\n",
       "    <tr>\n",
       "      <th>1060</th>\n",
       "      <td>10000.0</td>\n",
       "      <td>2008.0</td>\n",
       "      <td>1.0</td>\n",
       "      <td>1.0</td>\n",
       "      <td>92233.0</td>\n",
       "      <td>75000.0</td>\n",
       "      <td>Bajaj</td>\n",
       "      <td>44990.4</td>\n",
       "      <td>False</td>\n",
       "    </tr>\n",
       "  </tbody>\n",
       "</table>\n",
       "<p>1053 rows × 9 columns</p>\n",
       "</div>"
      ],
      "text/plain": [
       "      selling_price    year  seller_type  owner  km_driven  ex_showroom_price  \\\n",
       "0          175000.0  2019.0          1.0    1.0      350.0           169057.0   \n",
       "1           45000.0  2017.0          1.0    1.0     5650.0            58313.0   \n",
       "2          150000.0  2018.0          1.0    1.0    12000.0           148114.0   \n",
       "3           65000.0  2015.0          1.0    1.0    23000.0            89643.0   \n",
       "4           20000.0  2011.0          1.0    2.0    21000.0            49373.0   \n",
       "...             ...     ...          ...    ...        ...                ...   \n",
       "1056        17000.0  2010.0          1.0    1.0   500000.0            52000.0   \n",
       "1057        16000.0  2012.0          1.0    1.0    33000.0            51000.0   \n",
       "1058        15000.0  2013.0          1.0    2.0    35000.0            57000.0   \n",
       "1059        12000.0  2009.0          1.0    1.0    53000.0            58000.0   \n",
       "1060        10000.0  2008.0          1.0    1.0    92233.0            75000.0   \n",
       "\n",
       "       manufacturer  manufacturer_encoded  Imputed  \n",
       "0     Royal Enfield              128549.5     True  \n",
       "1             Honda               44916.0     True  \n",
       "2     Royal Enfield              128549.5    False  \n",
       "3            Yamaha               63656.9    False  \n",
       "4            Yamaha               63656.9     True  \n",
       "...             ...                   ...      ...  \n",
       "1056         Activa               34000.0    False  \n",
       "1057          Honda               44916.0    False  \n",
       "1058          Bajaj               44990.4    False  \n",
       "1059          Honda               44916.0    False  \n",
       "1060          Bajaj               44990.4    False  \n",
       "\n",
       "[1053 rows x 9 columns]"
      ]
     },
     "execution_count": 13,
     "metadata": {},
     "output_type": "execute_result"
    }
   ],
   "source": [
    "#  Finally, drop the duplacites if any and review what we got\n",
    "df = df.drop_duplicates()\n",
    "df"
   ]
  },
  {
   "attachments": {},
   "cell_type": "markdown",
   "metadata": {},
   "source": [
    "# Code: Data analysis"
   ]
  },
  {
   "cell_type": "code",
   "execution_count": 14,
   "metadata": {},
   "outputs": [
    {
     "data": {
      "image/png": "[encoded data removed]",
      "text/plain": [
       "<Figure size 600x400 with 2 Axes>"
      ]
     },
     "metadata": {},
     "output_type": "display_data"
    }
   ],
   "source": [
    "# Compute correlation matrix\n",
    "corr = df.corr(numeric_only=True)\n",
    "\n",
    "# Plot heatmap\n",
    "plt.figure(figsize=(6,4))\n",
    "sns.heatmap(corr, annot=True, fmt=\".2f\", cmap=\"coolwarm\")\n",
    "plt.title(\"Correlation Heatmap\")\n",
    "plt.show()"
   ]
  },
  {
   "cell_type": "markdown",
   "metadata": {},
   "source": [
    "Insights from correlations:\n",
    "1. As expected, selling price is highly dependent on showroom price (buying price). This is quite selfexplanatory\n",
    "2. Other biggest factors that are affecting selling price are year and kilometers. These are the only features that can give us idea about bikes condition\n",
    "3. Column seller type is quite usuless, because 99% of the values are 1 (individual seller)\n",
    "4. Owner amount correlating by nature with year and kilometers. Basically this is three dimensions of the thing, we can answer the question \"How old is this bike\" with each of them (10 year, 100k kilometers, 7 owners). However I think there might be dominating class (1st owner) which makes correlation look smaller than it is."
   ]
  },
  {
   "cell_type": "code",
   "execution_count": 15,
   "metadata": {},
   "outputs": [
    {
     "name": "stderr",
     "output_type": "stream",
     "text": [
      "c:\\Users\\kiril\\AppData\\Local\\Programs\\Python\\Python39\\lib\\site-packages\\seaborn\\_oldcore.py:1119: FutureWarning: use_inf_as_na option is deprecated and will be removed in a future version. Convert inf values to NaN before operating instead.\n",
      "  with pd.option_context('mode.use_inf_as_na', True):\n",
      "c:\\Users\\kiril\\AppData\\Local\\Programs\\Python\\Python39\\lib\\site-packages\\seaborn\\_oldcore.py:1119: FutureWarning: use_inf_as_na option is deprecated and will be removed in a future version. Convert inf values to NaN before operating instead.\n",
      "  with pd.option_context('mode.use_inf_as_na', True):\n",
      "c:\\Users\\kiril\\AppData\\Local\\Programs\\Python\\Python39\\lib\\site-packages\\seaborn\\relational.py:441: FutureWarning: DataFrameGroupBy.apply operated on the grouping columns. This behavior is deprecated, and in a future version of pandas the grouping columns will be excluded from the operation. Either pass `include_groups=False` to exclude the groupings or explicitly select the grouping columns after groupby to silence this warning.\n",
      "  sub_data = grouped.apply(agg, other).reset_index()\n"
     ]
    },
    {
     "data": {
      "text/plain": [
       "<AxesSubplot: xlabel='year', ylabel='selling_price'>"
      ]
     },
     "execution_count": 15,
     "metadata": {},
     "output_type": "execute_result"
    },
    {
     "data": {
      "image/png": "[encoded data removed]",
      "text/plain": [
       "<Figure size 640x480 with 1 Axes>"
      ]
     },
     "metadata": {},
     "output_type": "display_data"
    }
   ],
   "source": [
    "# Selling price by year\n",
    "sns.lineplot(x=df.year, y=df.selling_price)"
   ]
  },
  {
   "cell_type": "markdown",
   "metadata": {},
   "source": [
    "Otherwise looks normal, by looks like some of old bikes are rare and in good condition."
   ]
  },
  {
   "cell_type": "code",
   "execution_count": 16,
   "metadata": {},
   "outputs": [
    {
     "data": {
      "application/vnd.microsoft.datawrangler.viewer.v0+json": {
       "columns": [
        {
         "name": "index",
         "rawType": "int64",
         "type": "integer"
        },
        {
         "name": "selling_price",
         "rawType": "float64",
         "type": "float"
        },
        {
         "name": "year",
         "rawType": "float64",
         "type": "float"
        },
        {
         "name": "seller_type",
         "rawType": "float64",
         "type": "float"
        },
        {
         "name": "owner",
         "rawType": "float64",
         "type": "float"
        },
        {
         "name": "km_driven",
         "rawType": "float64",
         "type": "float"
        },
        {
         "name": "ex_showroom_price",
         "rawType": "float64",
         "type": "float"
        },
        {
         "name": "manufacturer",
         "rawType": "object",
         "type": "string"
        },
        {
         "name": "manufacturer_encoded",
         "rawType": "float64",
         "type": "float"
        },
        {
         "name": "Imputed",
         "rawType": "bool",
         "type": "boolean"
        }
       ],
       "ref": "63a36285-ab01-4259-a53e-d0ec30d18832",
       "rows": [
        [
         "363",
         "10000.0",
         "1997.0",
         "1.0",
         "1.0",
         "646000.0",
         "51133.5",
         "Hero Honda",
         "24525.0",
         "True"
        ],
        [
         "543",
         "5000.0",
         "1998.0",
         "1.0",
         "1.0",
         "60000.0",
         "52559.5",
         "TVS",
         "46374.0",
         "True"
        ],
        [
         "554",
         "65000.0",
         "1998.0",
         "1.0",
         "3.0",
         "16500.0",
         "100984.0",
         "Yamaha",
         "63656.9",
         "True"
        ],
        [
         "567",
         "6000.0",
         "1991.0",
         "1.0",
         "1.0",
         "35000.0",
         "53633.5",
         "Bajaj",
         "44990.4",
         "True"
        ],
        [
         "571",
         "15000.0",
         "1998.0",
         "1.0",
         "1.0",
         "65000.0",
         "56300.0",
         "Hero Honda",
         "24525.0",
         "True"
        ],
        [
         "715",
         "25000.0",
         "1997.0",
         "1.0",
         "1.0",
         "45354.0",
         "78712.0",
         "Yamaha",
         "63656.9",
         "True"
        ],
        [
         "861",
         "130000.0",
         "1993.0",
         "1.0",
         "2.0",
         "10000.0",
         "149057.0",
         "Royal Enfield",
         "128549.5",
         "True"
        ],
        [
         "868",
         "150000.0",
         "1995.0",
         "1.0",
         "3.0",
         "20000.0",
         "164779.5",
         "Royal Enfield",
         "128549.5",
         "True"
        ]
       ],
       "shape": {
        "columns": 9,
        "rows": 8
       }
      },
      "text/html": [
       "<div>\n",
       "<style scoped>\n",
       "    .dataframe tbody tr th:only-of-type {\n",
       "        vertical-align: middle;\n",
       "    }\n",
       "\n",
       "    .dataframe tbody tr th {\n",
       "        vertical-align: top;\n",
       "    }\n",
       "\n",
       "    .dataframe thead th {\n",
       "        text-align: right;\n",
       "    }\n",
       "</style>\n",
       "<table border=\"1\" class=\"dataframe\">\n",
       "  <thead>\n",
       "    <tr style=\"text-align: right;\">\n",
       "      <th></th>\n",
       "      <th>selling_price</th>\n",
       "      <th>year</th>\n",
       "      <th>seller_type</th>\n",
       "      <th>owner</th>\n",
       "      <th>km_driven</th>\n",
       "      <th>ex_showroom_price</th>\n",
       "      <th>manufacturer</th>\n",
       "      <th>manufacturer_encoded</th>\n",
       "      <th>Imputed</th>\n",
       "    </tr>\n",
       "  </thead>\n",
       "  <tbody>\n",
       "    <tr>\n",
       "      <th>363</th>\n",
       "      <td>10000.0</td>\n",
       "      <td>1997.0</td>\n",
       "      <td>1.0</td>\n",
       "      <td>1.0</td>\n",
       "      <td>646000.0</td>\n",
       "      <td>51133.5</td>\n",
       "      <td>Hero Honda</td>\n",
       "      <td>24525.0</td>\n",
       "      <td>True</td>\n",
       "    </tr>\n",
       "    <tr>\n",
       "      <th>543</th>\n",
       "      <td>5000.0</td>\n",
       "      <td>1998.0</td>\n",
       "      <td>1.0</td>\n",
       "      <td>1.0</td>\n",
       "      <td>60000.0</td>\n",
       "      <td>52559.5</td>\n",
       "      <td>TVS</td>\n",
       "      <td>46374.0</td>\n",
       "      <td>True</td>\n",
       "    </tr>\n",
       "    <tr>\n",
       "      <th>554</th>\n",
       "      <td>65000.0</td>\n",
       "      <td>1998.0</td>\n",
       "      <td>1.0</td>\n",
       "      <td>3.0</td>\n",
       "      <td>16500.0</td>\n",
       "      <td>100984.0</td>\n",
       "      <td>Yamaha</td>\n",
       "      <td>63656.9</td>\n",
       "      <td>True</td>\n",
       "    </tr>\n",
       "    <tr>\n",
       "      <th>567</th>\n",
       "      <td>6000.0</td>\n",
       "      <td>1991.0</td>\n",
       "      <td>1.0</td>\n",
       "      <td>1.0</td>\n",
       "      <td>35000.0</td>\n",
       "      <td>53633.5</td>\n",
       "      <td>Bajaj</td>\n",
       "      <td>44990.4</td>\n",
       "      <td>True</td>\n",
       "    </tr>\n",
       "    <tr>\n",
       "      <th>571</th>\n",
       "      <td>15000.0</td>\n",
       "      <td>1998.0</td>\n",
       "      <td>1.0</td>\n",
       "      <td>1.0</td>\n",
       "      <td>65000.0</td>\n",
       "      <td>56300.0</td>\n",
       "      <td>Hero Honda</td>\n",
       "      <td>24525.0</td>\n",
       "      <td>True</td>\n",
       "    </tr>\n",
       "    <tr>\n",
       "      <th>715</th>\n",
       "      <td>25000.0</td>\n",
       "      <td>1997.0</td>\n",
       "      <td>1.0</td>\n",
       "      <td>1.0</td>\n",
       "      <td>45354.0</td>\n",
       "      <td>78712.0</td>\n",
       "      <td>Yamaha</td>\n",
       "      <td>63656.9</td>\n",
       "      <td>True</td>\n",
       "    </tr>\n",
       "    <tr>\n",
       "      <th>861</th>\n",
       "      <td>130000.0</td>\n",
       "      <td>1993.0</td>\n",
       "      <td>1.0</td>\n",
       "      <td>2.0</td>\n",
       "      <td>10000.0</td>\n",
       "      <td>149057.0</td>\n",
       "      <td>Royal Enfield</td>\n",
       "      <td>128549.5</td>\n",
       "      <td>True</td>\n",
       "    </tr>\n",
       "    <tr>\n",
       "      <th>868</th>\n",
       "      <td>150000.0</td>\n",
       "      <td>1995.0</td>\n",
       "      <td>1.0</td>\n",
       "      <td>3.0</td>\n",
       "      <td>20000.0</td>\n",
       "      <td>164779.5</td>\n",
       "      <td>Royal Enfield</td>\n",
       "      <td>128549.5</td>\n",
       "      <td>True</td>\n",
       "    </tr>\n",
       "  </tbody>\n",
       "</table>\n",
       "</div>"
      ],
      "text/plain": [
       "     selling_price    year  seller_type  owner  km_driven  ex_showroom_price  \\\n",
       "363        10000.0  1997.0          1.0    1.0   646000.0            51133.5   \n",
       "543         5000.0  1998.0          1.0    1.0    60000.0            52559.5   \n",
       "554        65000.0  1998.0          1.0    3.0    16500.0           100984.0   \n",
       "567         6000.0  1991.0          1.0    1.0    35000.0            53633.5   \n",
       "571        15000.0  1998.0          1.0    1.0    65000.0            56300.0   \n",
       "715        25000.0  1997.0          1.0    1.0    45354.0            78712.0   \n",
       "861       130000.0  1993.0          1.0    2.0    10000.0           149057.0   \n",
       "868       150000.0  1995.0          1.0    3.0    20000.0           164779.5   \n",
       "\n",
       "      manufacturer  manufacturer_encoded  Imputed  \n",
       "363     Hero Honda               24525.0     True  \n",
       "543            TVS               46374.0     True  \n",
       "554         Yamaha               63656.9     True  \n",
       "567          Bajaj               44990.4     True  \n",
       "571     Hero Honda               24525.0     True  \n",
       "715         Yamaha               63656.9     True  \n",
       "861  Royal Enfield              128549.5     True  \n",
       "868  Royal Enfield              128549.5     True  "
      ]
     },
     "execution_count": 16,
     "metadata": {},
     "output_type": "execute_result"
    }
   ],
   "source": [
    "df[(df.year < 1999) & (df.year > 1990)]"
   ]
  },
  {
   "cell_type": "markdown",
   "metadata": {},
   "source": [
    "Exactly, there are two Royal Enfields from 1993 and 1995 with only 10k and 20k kilometers driven."
   ]
  },
  {
   "cell_type": "code",
   "execution_count": 17,
   "metadata": {},
   "outputs": [
    {
     "data": {
      "text/plain": [
       "<AxesSubplot: xlabel='km_driven', ylabel='selling_price'>"
      ]
     },
     "execution_count": 17,
     "metadata": {},
     "output_type": "execute_result"
    },
    {
     "data": {
      "image/png": "[encoded data removed]",
      "text/plain": [
       "<Figure size 640x480 with 1 Axes>"
      ]
     },
     "metadata": {},
     "output_type": "display_data"
    }
   ],
   "source": [
    "sns.regplot(x=df.km_driven, y=df.selling_price)"
   ]
  },
  {
   "cell_type": "markdown",
   "metadata": {},
   "source": [
    "I've expected more clear relationships between kilometers and selling price, but I guess in motorcycle world kilometers are more limited than in the car world. Also this might be a problem of this dataset - it might miss data about such motorcycles.\n",
    "\n",
    "But will it be clearer if we don't take into account these \"outliers\"?"
   ]
  },
  {
   "cell_type": "code",
   "execution_count": 18,
   "metadata": {},
   "outputs": [
    {
     "data": {
      "text/plain": [
       "<AxesSubplot: xlabel='km_driven', ylabel='selling_price'>"
      ]
     },
     "execution_count": 18,
     "metadata": {},
     "output_type": "execute_result"
    },
    {
     "data": {
      "image/png": "[encoded data removed]",
      "text/plain": [
       "<Figure size 640x480 with 1 Axes>"
      ]
     },
     "metadata": {},
     "output_type": "display_data"
    }
   ],
   "source": [
    "sns.regplot(x=df.km_driven[df.km_driven < 200000], y=df.selling_price[df.km_driven < 200000])"
   ]
  },
  {
   "cell_type": "markdown",
   "metadata": {},
   "source": [
    "Now it is little bit better, we can clearly see that bikes with less than 20k kilometers have overall better selling price, but after some point kilometers are loosing their significancy."
   ]
  },
  {
   "cell_type": "markdown",
   "metadata": {},
   "source": [
    "Now let's check amount of owners"
   ]
  },
  {
   "cell_type": "code",
   "execution_count": 19,
   "metadata": {},
   "outputs": [
    {
     "data": {
      "image/png": "[encoded data removed]",
      "text/plain": [
       "<Figure size 600x600 with 1 Axes>"
      ]
     },
     "metadata": {},
     "output_type": "display_data"
    }
   ],
   "source": [
    "counts = df.owner.value_counts()\n",
    "plt.figure(figsize=(6,6))\n",
    "plt.pie(counts, labels=counts.index)\n",
    "plt.title(\"Distribution of Amount of Owners\")\n",
    "plt.show()"
   ]
  },
  {
   "cell_type": "markdown",
   "metadata": {},
   "source": [
    "As I thought there is a dominating class. There are less than 5 rows with 4+ onwers and around 10 are 3 owners. And their average price won't tell us anything usefull. I think we should join 2, 3 and 4 owners into the same bin."
   ]
  },
  {
   "cell_type": "code",
   "execution_count": 20,
   "metadata": {},
   "outputs": [],
   "source": [
    "df[\"owner\"] = df[\"owner\"].replace({3:2, 4:2})"
   ]
  },
  {
   "cell_type": "code",
   "execution_count": 21,
   "metadata": {},
   "outputs": [
    {
     "data": {
      "text/plain": [
       "<AxesSubplot: xlabel='owner', ylabel='selling_price'>"
      ]
     },
     "execution_count": 21,
     "metadata": {},
     "output_type": "execute_result"
    },
    {
     "data": {
      "image/png": "[encoded data removed]",
      "text/plain": [
       "<Figure size 640x480 with 1 Axes>"
      ]
     },
     "metadata": {},
     "output_type": "display_data"
    }
   ],
   "source": [
    "sns.barplot(\n",
    "    data=df,\n",
    "    x=\"owner\",\n",
    "    y=\"selling_price\",\n",
    "    errorbar=None\n",
    ")\n"
   ]
  },
  {
   "cell_type": "markdown",
   "metadata": {},
   "source": [
    "Better but still not satisfied, I think the best solution could be:\n",
    "a) get more data with 2-3-4 owners\n",
    "b) create a bike category column, something like [normal, sport, premium, super rare]\n",
    "\n",
    "It seems to me that amount of owners is very subjective and in different categories can affect price in different ways: \n",
    "- If you are buying bike for every day use - amount of owners should be as low as possible. It is easier to get an idea of how single owner was treating the bike and there shouldn't be as much problems as with 4 owners\n",
    "- But if you are buying some kind of super rare bike to put in museum - you are not anymore thinking about how many owners it had."
   ]
  },
  {
   "cell_type": "code",
   "execution_count": 22,
   "metadata": {},
   "outputs": [
    {
     "data": {
      "image/png": "[encoded data removed]",
      "text/plain": [
       "<Figure size 640x480 with 1 Axes>"
      ]
     },
     "metadata": {},
     "output_type": "display_data"
    }
   ],
   "source": [
    "# Group by manufacturer, count and sort by average\n",
    "order = (\n",
    "    df.groupby(\"manufacturer\")[\"ex_showroom_price\"]\n",
    "    .median()\n",
    "    .sort_values()\n",
    "    .index\n",
    ")\n",
    "\n",
    "sns.barplot(\n",
    "    data=df,\n",
    "    x=\"manufacturer\",\n",
    "    y=\"ex_showroom_price\",\n",
    "    errorbar=None,\n",
    "    order=order, estimator=np.median\n",
    ")\n",
    "plt.xticks(rotation=60)\n",
    "plt.show()"
   ]
  },
  {
   "cell_type": "code",
   "execution_count": 61,
   "metadata": {},
   "outputs": [
    {
     "data": {
      "text/plain": [
       "<AxesSubplot: xlabel='manufacturer'>"
      ]
     },
     "execution_count": 61,
     "metadata": {},
     "output_type": "execute_result"
    },
    {
     "data": {
      "image/png": "[encoded data removed]",
      "text/plain": [
       "<Figure size 640x480 with 1 Axes>"
      ]
     },
     "metadata": {},
     "output_type": "display_data"
    }
   ],
   "source": [
    "top10_manufacturers = df['manufacturer'].value_counts().nlargest(15)\n",
    "\n",
    "plt.xticks(rotation=65)\n",
    "sns.barplot(x=top10_manufacturers.index, y=top10_manufacturers.values, palette=\"viridis\")"
   ]
  },
  {
   "cell_type": "markdown",
   "metadata": {},
   "source": [
    "And again we lack a lot of data on different manufacturers. I think that if get more data, then we will get rid of such explosive spikes, but situation in general won't change. There are manufacturers that are making \"legendary\" vehicles, there are some that are prioritizing quality, some who aims volume and etc. And their prices will change accordingly."
   ]
  },
  {
   "cell_type": "code",
   "execution_count": 24,
   "metadata": {},
   "outputs": [
    {
     "data": {
      "text/plain": [
       "<AxesSubplot: xlabel='selling_price', ylabel='ex_showroom_price'>"
      ]
     },
     "execution_count": 24,
     "metadata": {},
     "output_type": "execute_result"
    },
    {
     "data": {
      "image/png": "[encoded data removed]",
      "text/plain": [
       "<Figure size 640x480 with 1 Axes>"
      ]
     },
     "metadata": {},
     "output_type": "display_data"
    }
   ],
   "source": [
    "sns.scatterplot(x=df.selling_price, y=df.ex_showroom_price)"
   ]
  },
  {
   "cell_type": "markdown",
   "metadata": {},
   "source": [
    "Came to my mind, that there are possibly bikes that are now more expensive than back then when they were first time sold. Let's check that. I think it would be right to exclude imputed values"
   ]
  },
  {
   "cell_type": "code",
   "execution_count": 25,
   "metadata": {},
   "outputs": [
    {
     "data": {
      "application/vnd.microsoft.datawrangler.viewer.v0+json": {
       "columns": [
        {
         "name": "index",
         "rawType": "int64",
         "type": "integer"
        },
        {
         "name": "selling_price",
         "rawType": "float64",
         "type": "float"
        },
        {
         "name": "year",
         "rawType": "float64",
         "type": "float"
        },
        {
         "name": "seller_type",
         "rawType": "float64",
         "type": "float"
        },
        {
         "name": "owner",
         "rawType": "float64",
         "type": "float"
        },
        {
         "name": "km_driven",
         "rawType": "float64",
         "type": "float"
        },
        {
         "name": "ex_showroom_price",
         "rawType": "float64",
         "type": "float"
        },
        {
         "name": "manufacturer",
         "rawType": "object",
         "type": "string"
        },
        {
         "name": "manufacturer_encoded",
         "rawType": "float64",
         "type": "float"
        },
        {
         "name": "Imputed",
         "rawType": "bool",
         "type": "boolean"
        }
       ],
       "ref": "9464c562-4f8d-4a09-8089-d64cd06d4b82",
       "rows": [
        [
         "2",
         "150000.0",
         "2018.0",
         "1.0",
         "1.0",
         "12000.0",
         "148114.0",
         "Royal Enfield",
         "128549.5",
         "False"
        ],
        [
         "13",
         "365000.0",
         "2019.0",
         "1.0",
         "1.0",
         "1127.0",
         "351680.0",
         "Yamaha",
         "63656.9",
         "False"
        ],
        [
         "18",
         "150000.0",
         "2018.0",
         "1.0",
         "1.0",
         "23000.0",
         "148114.0",
         "Royal Enfield",
         "128549.5",
         "False"
        ],
        [
         "35",
         "60000.0",
         "2018.0",
         "1.0",
         "1.0",
         "6502.0",
         "57557.0",
         "Honda",
         "44916.0",
         "False"
        ],
        [
         "44",
         "85000.0",
         "2018.0",
         "1.0",
         "1.0",
         "8000.0",
         "84042.0",
         "Yamaha",
         "63656.9",
         "False"
        ],
        [
         "48",
         "60000.0",
         "2018.0",
         "1.0",
         "1.0",
         "13000.0",
         "59844.0",
         "Yamaha",
         "63656.9",
         "False"
        ],
        [
         "54",
         "70000.0",
         "2019.0",
         "1.0",
         "1.0",
         "3000.0",
         "59422.0",
         "Honda",
         "44916.0",
         "False"
        ],
        [
         "74",
         "165000.0",
         "2019.0",
         "1.0",
         "1.0",
         "3700.0",
         "164004.0",
         "Royal Enfield",
         "128549.5",
         "False"
        ],
        [
         "82",
         "62000.0",
         "2019.0",
         "1.0",
         "1.0",
         "3500.0",
         "57557.0",
         "Honda",
         "44916.0",
         "False"
        ],
        [
         "96",
         "150000.0",
         "2019.0",
         "1.0",
         "1.0",
         "2500.0",
         "133680.0",
         "Yamaha",
         "63656.9",
         "False"
        ],
        [
         "131",
         "60000.0",
         "2015.0",
         "1.0",
         "1.0",
         "30000.0",
         "54605.0",
         "Honda",
         "44916.0",
         "False"
        ],
        [
         "136",
         "190000.0",
         "2020.0",
         "1.0",
         "1.0",
         "500.0",
         "155740.0",
         "Royal Enfield",
         "128549.5",
         "False"
        ],
        [
         "213",
         "170000.0",
         "2018.0",
         "1.0",
         "1.0",
         "16000.0",
         "163331.0",
         "Bajaj",
         "44990.4",
         "False"
        ],
        [
         "233",
         "95000.0",
         "2019.0",
         "1.0",
         "1.0",
         "8000.0",
         "94703.0",
         "Honda",
         "44916.0",
         "False"
        ],
        [
         "276",
         "75000.0",
         "2013.0",
         "1.0",
         "1.0",
         "54000.0",
         "74295.0",
         "Honda",
         "44916.0",
         "False"
        ],
        [
         "295",
         "760000.0",
         "2019.0",
         "1.0",
         "1.0",
         "2800.0",
         "752020.0",
         "Suzuki",
         "73800.0",
         "False"
        ],
        [
         "324",
         "69000.0",
         "2019.0",
         "1.0",
         "1.0",
         "1600.0",
         "57112.0",
         "Yamaha",
         "63656.9",
         "False"
        ],
        [
         "368",
         "70000.0",
         "2019.0",
         "1.0",
         "1.0",
         "3000.0",
         "55600.0",
         "Hero",
         "40762.5",
         "False"
        ],
        [
         "375",
         "58000.0",
         "2018.0",
         "1.0",
         "1.0",
         "6000.0",
         "54580.0",
         "Hero",
         "40762.5",
         "False"
        ],
        [
         "405",
         "145000.0",
         "2019.0",
         "1.0",
         "1.0",
         "4500.0",
         "133680.0",
         "Yamaha",
         "63656.9",
         "False"
        ],
        [
         "449",
         "195000.0",
         "2018.0",
         "1.0",
         "1.0",
         "2845.0",
         "164095.0",
         "Royal Enfield",
         "128549.5",
         "False"
        ],
        [
         "460",
         "75000.0",
         "2017.0",
         "1.0",
         "1.0",
         "15000.0",
         "52949.0",
         "Yamaha",
         "63656.9",
         "False"
        ],
        [
         "463",
         "55000.0",
         "2017.0",
         "1.0",
         "1.0",
         "14600.0",
         "54475.0",
         "Hero",
         "40762.5",
         "False"
        ],
        [
         "512",
         "105000.0",
         "2019.0",
         "1.0",
         "1.0",
         "2900.0",
         "96500.0",
         "Hero",
         "40762.5",
         "False"
        ],
        [
         "531",
         "55000.0",
         "2018.0",
         "1.0",
         "1.0",
         "39000.0",
         "52790.0",
         "Hero",
         "40762.5",
         "False"
        ],
        [
         "540",
         "55000.0",
         "2018.0",
         "1.0",
         "1.0",
         "15000.0",
         "54475.0",
         "Hero",
         "40762.5",
         "False"
        ],
        [
         "545",
         "50000.0",
         "2014.0",
         "1.0",
         "1.0",
         "25000.0",
         "49211.0",
         "Honda",
         "44916.0",
         "False"
        ],
        [
         "559",
         "65000.0",
         "2019.0",
         "1.0",
         "1.0",
         "1000.0",
         "55600.0",
         "Hero",
         "40762.5",
         "False"
        ],
        [
         "657",
         "55000.0",
         "2018.0",
         "1.0",
         "1.0",
         "380.0",
         "53751.0",
         "TVS",
         "46374.0",
         "False"
        ],
        [
         "677",
         "74000.0",
         "2019.0",
         "1.0",
         "1.0",
         "13000.0",
         "59844.0",
         "Yamaha",
         "63656.9",
         "False"
        ],
        [
         "690",
         "62000.0",
         "2019.0",
         "1.0",
         "1.0",
         "11200.0",
         "59422.0",
         "Honda",
         "44916.0",
         "False"
        ],
        [
         "700",
         "145000.0",
         "2018.0",
         "1.0",
         "2.0",
         "4100.0",
         "142680.0",
         "Yamaha",
         "63656.9",
         "False"
        ],
        [
         "702",
         "65000.0",
         "2019.0",
         "1.0",
         "1.0",
         "3025.0",
         "59422.0",
         "Honda",
         "44916.0",
         "False"
        ],
        [
         "728",
         "90000.0",
         "2018.0",
         "1.0",
         "1.0",
         "10500.0",
         "87042.0",
         "Yamaha",
         "63656.9",
         "False"
        ],
        [
         "759",
         "70000.0",
         "2018.0",
         "1.0",
         "1.0",
         "15000.0",
         "67187.0",
         "Bajaj",
         "44990.4",
         "False"
        ],
        [
         "789",
         "75000.0",
         "2019.0",
         "1.0",
         "1.0",
         "8900.0",
         "71150.0",
         "Hero",
         "40762.5",
         "False"
        ],
        [
         "813",
         "70000.0",
         "2014.0",
         "1.0",
         "1.0",
         "12566.0",
         "49150.0",
         "Honda",
         "44916.0",
         "False"
        ],
        [
         "818",
         "170000.0",
         "2019.0",
         "1.0",
         "1.0",
         "1400.0",
         "146400.0",
         "Yamaha",
         "63656.9",
         "False"
        ],
        [
         "841",
         "76000.0",
         "2018.0",
         "1.0",
         "1.0",
         "23000.0",
         "65626.0",
         "Bajaj",
         "44990.4",
         "False"
        ],
        [
         "882",
         "180000.0",
         "2018.0",
         "1.0",
         "1.0",
         "5814.0",
         "148114.0",
         "Royal Enfield",
         "128549.5",
         "False"
        ],
        [
         "930",
         "50000.0",
         "2016.0",
         "1.0",
         "1.0",
         "100000.0",
         "49412.0",
         "Hero",
         "40762.5",
         "False"
        ]
       ],
       "shape": {
        "columns": 9,
        "rows": 41
       }
      },
      "text/html": [
       "<div>\n",
       "<style scoped>\n",
       "    .dataframe tbody tr th:only-of-type {\n",
       "        vertical-align: middle;\n",
       "    }\n",
       "\n",
       "    .dataframe tbody tr th {\n",
       "        vertical-align: top;\n",
       "    }\n",
       "\n",
       "    .dataframe thead th {\n",
       "        text-align: right;\n",
       "    }\n",
       "</style>\n",
       "<table border=\"1\" class=\"dataframe\">\n",
       "  <thead>\n",
       "    <tr style=\"text-align: right;\">\n",
       "      <th></th>\n",
       "      <th>selling_price</th>\n",
       "      <th>year</th>\n",
       "      <th>seller_type</th>\n",
       "      <th>owner</th>\n",
       "      <th>km_driven</th>\n",
       "      <th>ex_showroom_price</th>\n",
       "      <th>manufacturer</th>\n",
       "      <th>manufacturer_encoded</th>\n",
       "      <th>Imputed</th>\n",
       "    </tr>\n",
       "  </thead>\n",
       "  <tbody>\n",
       "    <tr>\n",
       "      <th>2</th>\n",
       "      <td>150000.0</td>\n",
       "      <td>2018.0</td>\n",
       "      <td>1.0</td>\n",
       "      <td>1.0</td>\n",
       "      <td>12000.0</td>\n",
       "      <td>148114.0</td>\n",
       "      <td>Royal Enfield</td>\n",
       "      <td>128549.5</td>\n",
       "      <td>False</td>\n",
       "    </tr>\n",
       "    <tr>\n",
       "      <th>13</th>\n",
       "      <td>365000.0</td>\n",
       "      <td>2019.0</td>\n",
       "      <td>1.0</td>\n",
       "      <td>1.0</td>\n",
       "      <td>1127.0</td>\n",
       "      <td>351680.0</td>\n",
       "      <td>Yamaha</td>\n",
       "      <td>63656.9</td>\n",
       "      <td>False</td>\n",
       "    </tr>\n",
       "    <tr>\n",
       "      <th>18</th>\n",
       "      <td>150000.0</td>\n",
       "      <td>2018.0</td>\n",
       "      <td>1.0</td>\n",
       "      <td>1.0</td>\n",
       "      <td>23000.0</td>\n",
       "      <td>148114.0</td>\n",
       "      <td>Royal Enfield</td>\n",
       "      <td>128549.5</td>\n",
       "      <td>False</td>\n",
       "    </tr>\n",
       "    <tr>\n",
       "      <th>35</th>\n",
       "      <td>60000.0</td>\n",
       "      <td>2018.0</td>\n",
       "      <td>1.0</td>\n",
       "      <td>1.0</td>\n",
       "      <td>6502.0</td>\n",
       "      <td>57557.0</td>\n",
       "      <td>Honda</td>\n",
       "      <td>44916.0</td>\n",
       "      <td>False</td>\n",
       "    </tr>\n",
       "    <tr>\n",
       "      <th>44</th>\n",
       "      <td>85000.0</td>\n",
       "      <td>2018.0</td>\n",
       "      <td>1.0</td>\n",
       "      <td>1.0</td>\n",
       "      <td>8000.0</td>\n",
       "      <td>84042.0</td>\n",
       "      <td>Yamaha</td>\n",
       "      <td>63656.9</td>\n",
       "      <td>False</td>\n",
       "    </tr>\n",
       "    <tr>\n",
       "      <th>48</th>\n",
       "      <td>60000.0</td>\n",
       "      <td>2018.0</td>\n",
       "      <td>1.0</td>\n",
       "      <td>1.0</td>\n",
       "      <td>13000.0</td>\n",
       "      <td>59844.0</td>\n",
       "      <td>Yamaha</td>\n",
       "      <td>63656.9</td>\n",
       "      <td>False</td>\n",
       "    </tr>\n",
       "    <tr>\n",
       "      <th>54</th>\n",
       "      <td>70000.0</td>\n",
       "      <td>2019.0</td>\n",
       "      <td>1.0</td>\n",
       "      <td>1.0</td>\n",
       "      <td>3000.0</td>\n",
       "      <td>59422.0</td>\n",
       "      <td>Honda</td>\n",
       "      <td>44916.0</td>\n",
       "      <td>False</td>\n",
       "    </tr>\n",
       "    <tr>\n",
       "      <th>74</th>\n",
       "      <td>165000.0</td>\n",
       "      <td>2019.0</td>\n",
       "      <td>1.0</td>\n",
       "      <td>1.0</td>\n",
       "      <td>3700.0</td>\n",
       "      <td>164004.0</td>\n",
       "      <td>Royal Enfield</td>\n",
       "      <td>128549.5</td>\n",
       "      <td>False</td>\n",
       "    </tr>\n",
       "    <tr>\n",
       "      <th>82</th>\n",
       "      <td>62000.0</td>\n",
       "      <td>2019.0</td>\n",
       "      <td>1.0</td>\n",
       "      <td>1.0</td>\n",
       "      <td>3500.0</td>\n",
       "      <td>57557.0</td>\n",
       "      <td>Honda</td>\n",
       "      <td>44916.0</td>\n",
       "      <td>False</td>\n",
       "    </tr>\n",
       "    <tr>\n",
       "      <th>96</th>\n",
       "      <td>150000.0</td>\n",
       "      <td>2019.0</td>\n",
       "      <td>1.0</td>\n",
       "      <td>1.0</td>\n",
       "      <td>2500.0</td>\n",
       "      <td>133680.0</td>\n",
       "      <td>Yamaha</td>\n",
       "      <td>63656.9</td>\n",
       "      <td>False</td>\n",
       "    </tr>\n",
       "    <tr>\n",
       "      <th>131</th>\n",
       "      <td>60000.0</td>\n",
       "      <td>2015.0</td>\n",
       "      <td>1.0</td>\n",
       "      <td>1.0</td>\n",
       "      <td>30000.0</td>\n",
       "      <td>54605.0</td>\n",
       "      <td>Honda</td>\n",
       "      <td>44916.0</td>\n",
       "      <td>False</td>\n",
       "    </tr>\n",
       "    <tr>\n",
       "      <th>136</th>\n",
       "      <td>190000.0</td>\n",
       "      <td>2020.0</td>\n",
       "      <td>1.0</td>\n",
       "      <td>1.0</td>\n",
       "      <td>500.0</td>\n",
       "      <td>155740.0</td>\n",
       "      <td>Royal Enfield</td>\n",
       "      <td>128549.5</td>\n",
       "      <td>False</td>\n",
       "    </tr>\n",
       "    <tr>\n",
       "      <th>213</th>\n",
       "      <td>170000.0</td>\n",
       "      <td>2018.0</td>\n",
       "      <td>1.0</td>\n",
       "      <td>1.0</td>\n",
       "      <td>16000.0</td>\n",
       "      <td>163331.0</td>\n",
       "      <td>Bajaj</td>\n",
       "      <td>44990.4</td>\n",
       "      <td>False</td>\n",
       "    </tr>\n",
       "    <tr>\n",
       "      <th>233</th>\n",
       "      <td>95000.0</td>\n",
       "      <td>2019.0</td>\n",
       "      <td>1.0</td>\n",
       "      <td>1.0</td>\n",
       "      <td>8000.0</td>\n",
       "      <td>94703.0</td>\n",
       "      <td>Honda</td>\n",
       "      <td>44916.0</td>\n",
       "      <td>False</td>\n",
       "    </tr>\n",
       "    <tr>\n",
       "      <th>276</th>\n",
       "      <td>75000.0</td>\n",
       "      <td>2013.0</td>\n",
       "      <td>1.0</td>\n",
       "      <td>1.0</td>\n",
       "      <td>54000.0</td>\n",
       "      <td>74295.0</td>\n",
       "      <td>Honda</td>\n",
       "      <td>44916.0</td>\n",
       "      <td>False</td>\n",
       "    </tr>\n",
       "    <tr>\n",
       "      <th>295</th>\n",
       "      <td>760000.0</td>\n",
       "      <td>2019.0</td>\n",
       "      <td>1.0</td>\n",
       "      <td>1.0</td>\n",
       "      <td>2800.0</td>\n",
       "      <td>752020.0</td>\n",
       "      <td>Suzuki</td>\n",
       "      <td>73800.0</td>\n",
       "      <td>False</td>\n",
       "    </tr>\n",
       "    <tr>\n",
       "      <th>324</th>\n",
       "      <td>69000.0</td>\n",
       "      <td>2019.0</td>\n",
       "      <td>1.0</td>\n",
       "      <td>1.0</td>\n",
       "      <td>1600.0</td>\n",
       "      <td>57112.0</td>\n",
       "      <td>Yamaha</td>\n",
       "      <td>63656.9</td>\n",
       "      <td>False</td>\n",
       "    </tr>\n",
       "    <tr>\n",
       "      <th>368</th>\n",
       "      <td>70000.0</td>\n",
       "      <td>2019.0</td>\n",
       "      <td>1.0</td>\n",
       "      <td>1.0</td>\n",
       "      <td>3000.0</td>\n",
       "      <td>55600.0</td>\n",
       "      <td>Hero</td>\n",
       "      <td>40762.5</td>\n",
       "      <td>False</td>\n",
       "    </tr>\n",
       "    <tr>\n",
       "      <th>375</th>\n",
       "      <td>58000.0</td>\n",
       "      <td>2018.0</td>\n",
       "      <td>1.0</td>\n",
       "      <td>1.0</td>\n",
       "      <td>6000.0</td>\n",
       "      <td>54580.0</td>\n",
       "      <td>Hero</td>\n",
       "      <td>40762.5</td>\n",
       "      <td>False</td>\n",
       "    </tr>\n",
       "    <tr>\n",
       "      <th>405</th>\n",
       "      <td>145000.0</td>\n",
       "      <td>2019.0</td>\n",
       "      <td>1.0</td>\n",
       "      <td>1.0</td>\n",
       "      <td>4500.0</td>\n",
       "      <td>133680.0</td>\n",
       "      <td>Yamaha</td>\n",
       "      <td>63656.9</td>\n",
       "      <td>False</td>\n",
       "    </tr>\n",
       "    <tr>\n",
       "      <th>449</th>\n",
       "      <td>195000.0</td>\n",
       "      <td>2018.0</td>\n",
       "      <td>1.0</td>\n",
       "      <td>1.0</td>\n",
       "      <td>2845.0</td>\n",
       "      <td>164095.0</td>\n",
       "      <td>Royal Enfield</td>\n",
       "      <td>128549.5</td>\n",
       "      <td>False</td>\n",
       "    </tr>\n",
       "    <tr>\n",
       "      <th>460</th>\n",
       "      <td>75000.0</td>\n",
       "      <td>2017.0</td>\n",
       "      <td>1.0</td>\n",
       "      <td>1.0</td>\n",
       "      <td>15000.0</td>\n",
       "      <td>52949.0</td>\n",
       "      <td>Yamaha</td>\n",
       "      <td>63656.9</td>\n",
       "      <td>False</td>\n",
       "    </tr>\n",
       "    <tr>\n",
       "      <th>463</th>\n",
       "      <td>55000.0</td>\n",
       "      <td>2017.0</td>\n",
       "      <td>1.0</td>\n",
       "      <td>1.0</td>\n",
       "      <td>14600.0</td>\n",
       "      <td>54475.0</td>\n",
       "      <td>Hero</td>\n",
       "      <td>40762.5</td>\n",
       "      <td>False</td>\n",
       "    </tr>\n",
       "    <tr>\n",
       "      <th>512</th>\n",
       "      <td>105000.0</td>\n",
       "      <td>2019.0</td>\n",
       "      <td>1.0</td>\n",
       "      <td>1.0</td>\n",
       "      <td>2900.0</td>\n",
       "      <td>96500.0</td>\n",
       "      <td>Hero</td>\n",
       "      <td>40762.5</td>\n",
       "      <td>False</td>\n",
       "    </tr>\n",
       "    <tr>\n",
       "      <th>531</th>\n",
       "      <td>55000.0</td>\n",
       "      <td>2018.0</td>\n",
       "      <td>1.0</td>\n",
       "      <td>1.0</td>\n",
       "      <td>39000.0</td>\n",
       "      <td>52790.0</td>\n",
       "      <td>Hero</td>\n",
       "      <td>40762.5</td>\n",
       "      <td>False</td>\n",
       "    </tr>\n",
       "    <tr>\n",
       "      <th>540</th>\n",
       "      <td>55000.0</td>\n",
       "      <td>2018.0</td>\n",
       "      <td>1.0</td>\n",
       "      <td>1.0</td>\n",
       "      <td>15000.0</td>\n",
       "      <td>54475.0</td>\n",
       "      <td>Hero</td>\n",
       "      <td>40762.5</td>\n",
       "      <td>False</td>\n",
       "    </tr>\n",
       "    <tr>\n",
       "      <th>545</th>\n",
       "      <td>50000.0</td>\n",
       "      <td>2014.0</td>\n",
       "      <td>1.0</td>\n",
       "      <td>1.0</td>\n",
       "      <td>25000.0</td>\n",
       "      <td>49211.0</td>\n",
       "      <td>Honda</td>\n",
       "      <td>44916.0</td>\n",
       "      <td>False</td>\n",
       "    </tr>\n",
       "    <tr>\n",
       "      <th>559</th>\n",
       "      <td>65000.0</td>\n",
       "      <td>2019.0</td>\n",
       "      <td>1.0</td>\n",
       "      <td>1.0</td>\n",
       "      <td>1000.0</td>\n",
       "      <td>55600.0</td>\n",
       "      <td>Hero</td>\n",
       "      <td>40762.5</td>\n",
       "      <td>False</td>\n",
       "    </tr>\n",
       "    <tr>\n",
       "      <th>657</th>\n",
       "      <td>55000.0</td>\n",
       "      <td>2018.0</td>\n",
       "      <td>1.0</td>\n",
       "      <td>1.0</td>\n",
       "      <td>380.0</td>\n",
       "      <td>53751.0</td>\n",
       "      <td>TVS</td>\n",
       "      <td>46374.0</td>\n",
       "      <td>False</td>\n",
       "    </tr>\n",
       "    <tr>\n",
       "      <th>677</th>\n",
       "      <td>74000.0</td>\n",
       "      <td>2019.0</td>\n",
       "      <td>1.0</td>\n",
       "      <td>1.0</td>\n",
       "      <td>13000.0</td>\n",
       "      <td>59844.0</td>\n",
       "      <td>Yamaha</td>\n",
       "      <td>63656.9</td>\n",
       "      <td>False</td>\n",
       "    </tr>\n",
       "    <tr>\n",
       "      <th>690</th>\n",
       "      <td>62000.0</td>\n",
       "      <td>2019.0</td>\n",
       "      <td>1.0</td>\n",
       "      <td>1.0</td>\n",
       "      <td>11200.0</td>\n",
       "      <td>59422.0</td>\n",
       "      <td>Honda</td>\n",
       "      <td>44916.0</td>\n",
       "      <td>False</td>\n",
       "    </tr>\n",
       "    <tr>\n",
       "      <th>700</th>\n",
       "      <td>145000.0</td>\n",
       "      <td>2018.0</td>\n",
       "      <td>1.0</td>\n",
       "      <td>2.0</td>\n",
       "      <td>4100.0</td>\n",
       "      <td>142680.0</td>\n",
       "      <td>Yamaha</td>\n",
       "      <td>63656.9</td>\n",
       "      <td>False</td>\n",
       "    </tr>\n",
       "    <tr>\n",
       "      <th>702</th>\n",
       "      <td>65000.0</td>\n",
       "      <td>2019.0</td>\n",
       "      <td>1.0</td>\n",
       "      <td>1.0</td>\n",
       "      <td>3025.0</td>\n",
       "      <td>59422.0</td>\n",
       "      <td>Honda</td>\n",
       "      <td>44916.0</td>\n",
       "      <td>False</td>\n",
       "    </tr>\n",
       "    <tr>\n",
       "      <th>728</th>\n",
       "      <td>90000.0</td>\n",
       "      <td>2018.0</td>\n",
       "      <td>1.0</td>\n",
       "      <td>1.0</td>\n",
       "      <td>10500.0</td>\n",
       "      <td>87042.0</td>\n",
       "      <td>Yamaha</td>\n",
       "      <td>63656.9</td>\n",
       "      <td>False</td>\n",
       "    </tr>\n",
       "    <tr>\n",
       "      <th>759</th>\n",
       "      <td>70000.0</td>\n",
       "      <td>2018.0</td>\n",
       "      <td>1.0</td>\n",
       "      <td>1.0</td>\n",
       "      <td>15000.0</td>\n",
       "      <td>67187.0</td>\n",
       "      <td>Bajaj</td>\n",
       "      <td>44990.4</td>\n",
       "      <td>False</td>\n",
       "    </tr>\n",
       "    <tr>\n",
       "      <th>789</th>\n",
       "      <td>75000.0</td>\n",
       "      <td>2019.0</td>\n",
       "      <td>1.0</td>\n",
       "      <td>1.0</td>\n",
       "      <td>8900.0</td>\n",
       "      <td>71150.0</td>\n",
       "      <td>Hero</td>\n",
       "      <td>40762.5</td>\n",
       "      <td>False</td>\n",
       "    </tr>\n",
       "    <tr>\n",
       "      <th>813</th>\n",
       "      <td>70000.0</td>\n",
       "      <td>2014.0</td>\n",
       "      <td>1.0</td>\n",
       "      <td>1.0</td>\n",
       "      <td>12566.0</td>\n",
       "      <td>49150.0</td>\n",
       "      <td>Honda</td>\n",
       "      <td>44916.0</td>\n",
       "      <td>False</td>\n",
       "    </tr>\n",
       "    <tr>\n",
       "      <th>818</th>\n",
       "      <td>170000.0</td>\n",
       "      <td>2019.0</td>\n",
       "      <td>1.0</td>\n",
       "      <td>1.0</td>\n",
       "      <td>1400.0</td>\n",
       "      <td>146400.0</td>\n",
       "      <td>Yamaha</td>\n",
       "      <td>63656.9</td>\n",
       "      <td>False</td>\n",
       "    </tr>\n",
       "    <tr>\n",
       "      <th>841</th>\n",
       "      <td>76000.0</td>\n",
       "      <td>2018.0</td>\n",
       "      <td>1.0</td>\n",
       "      <td>1.0</td>\n",
       "      <td>23000.0</td>\n",
       "      <td>65626.0</td>\n",
       "      <td>Bajaj</td>\n",
       "      <td>44990.4</td>\n",
       "      <td>False</td>\n",
       "    </tr>\n",
       "    <tr>\n",
       "      <th>882</th>\n",
       "      <td>180000.0</td>\n",
       "      <td>2018.0</td>\n",
       "      <td>1.0</td>\n",
       "      <td>1.0</td>\n",
       "      <td>5814.0</td>\n",
       "      <td>148114.0</td>\n",
       "      <td>Royal Enfield</td>\n",
       "      <td>128549.5</td>\n",
       "      <td>False</td>\n",
       "    </tr>\n",
       "    <tr>\n",
       "      <th>930</th>\n",
       "      <td>50000.0</td>\n",
       "      <td>2016.0</td>\n",
       "      <td>1.0</td>\n",
       "      <td>1.0</td>\n",
       "      <td>100000.0</td>\n",
       "      <td>49412.0</td>\n",
       "      <td>Hero</td>\n",
       "      <td>40762.5</td>\n",
       "      <td>False</td>\n",
       "    </tr>\n",
       "  </tbody>\n",
       "</table>\n",
       "</div>"
      ],
      "text/plain": [
       "     selling_price    year  seller_type  owner  km_driven  ex_showroom_price  \\\n",
       "2         150000.0  2018.0          1.0    1.0    12000.0           148114.0   \n",
       "13        365000.0  2019.0          1.0    1.0     1127.0           351680.0   \n",
       "18        150000.0  2018.0          1.0    1.0    23000.0           148114.0   \n",
       "35         60000.0  2018.0          1.0    1.0     6502.0            57557.0   \n",
       "44         85000.0  2018.0          1.0    1.0     8000.0            84042.0   \n",
       "48         60000.0  2018.0          1.0    1.0    13000.0            59844.0   \n",
       "54         70000.0  2019.0          1.0    1.0     3000.0            59422.0   \n",
       "74        165000.0  2019.0          1.0    1.0     3700.0           164004.0   \n",
       "82         62000.0  2019.0          1.0    1.0     3500.0            57557.0   \n",
       "96        150000.0  2019.0          1.0    1.0     2500.0           133680.0   \n",
       "131        60000.0  2015.0          1.0    1.0    30000.0            54605.0   \n",
       "136       190000.0  2020.0          1.0    1.0      500.0           155740.0   \n",
       "213       170000.0  2018.0          1.0    1.0    16000.0           163331.0   \n",
       "233        95000.0  2019.0          1.0    1.0     8000.0            94703.0   \n",
       "276        75000.0  2013.0          1.0    1.0    54000.0            74295.0   \n",
       "295       760000.0  2019.0          1.0    1.0     2800.0           752020.0   \n",
       "324        69000.0  2019.0          1.0    1.0     1600.0            57112.0   \n",
       "368        70000.0  2019.0          1.0    1.0     3000.0            55600.0   \n",
       "375        58000.0  2018.0          1.0    1.0     6000.0            54580.0   \n",
       "405       145000.0  2019.0          1.0    1.0     4500.0           133680.0   \n",
       "449       195000.0  2018.0          1.0    1.0     2845.0           164095.0   \n",
       "460        75000.0  2017.0          1.0    1.0    15000.0            52949.0   \n",
       "463        55000.0  2017.0          1.0    1.0    14600.0            54475.0   \n",
       "512       105000.0  2019.0          1.0    1.0     2900.0            96500.0   \n",
       "531        55000.0  2018.0          1.0    1.0    39000.0            52790.0   \n",
       "540        55000.0  2018.0          1.0    1.0    15000.0            54475.0   \n",
       "545        50000.0  2014.0          1.0    1.0    25000.0            49211.0   \n",
       "559        65000.0  2019.0          1.0    1.0     1000.0            55600.0   \n",
       "657        55000.0  2018.0          1.0    1.0      380.0            53751.0   \n",
       "677        74000.0  2019.0          1.0    1.0    13000.0            59844.0   \n",
       "690        62000.0  2019.0          1.0    1.0    11200.0            59422.0   \n",
       "700       145000.0  2018.0          1.0    2.0     4100.0           142680.0   \n",
       "702        65000.0  2019.0          1.0    1.0     3025.0            59422.0   \n",
       "728        90000.0  2018.0          1.0    1.0    10500.0            87042.0   \n",
       "759        70000.0  2018.0          1.0    1.0    15000.0            67187.0   \n",
       "789        75000.0  2019.0          1.0    1.0     8900.0            71150.0   \n",
       "813        70000.0  2014.0          1.0    1.0    12566.0            49150.0   \n",
       "818       170000.0  2019.0          1.0    1.0     1400.0           146400.0   \n",
       "841        76000.0  2018.0          1.0    1.0    23000.0            65626.0   \n",
       "882       180000.0  2018.0          1.0    1.0     5814.0           148114.0   \n",
       "930        50000.0  2016.0          1.0    1.0   100000.0            49412.0   \n",
       "\n",
       "      manufacturer  manufacturer_encoded  Imputed  \n",
       "2    Royal Enfield              128549.5    False  \n",
       "13          Yamaha               63656.9    False  \n",
       "18   Royal Enfield              128549.5    False  \n",
       "35           Honda               44916.0    False  \n",
       "44          Yamaha               63656.9    False  \n",
       "48          Yamaha               63656.9    False  \n",
       "54           Honda               44916.0    False  \n",
       "74   Royal Enfield              128549.5    False  \n",
       "82           Honda               44916.0    False  \n",
       "96          Yamaha               63656.9    False  \n",
       "131          Honda               44916.0    False  \n",
       "136  Royal Enfield              128549.5    False  \n",
       "213          Bajaj               44990.4    False  \n",
       "233          Honda               44916.0    False  \n",
       "276          Honda               44916.0    False  \n",
       "295         Suzuki               73800.0    False  \n",
       "324         Yamaha               63656.9    False  \n",
       "368           Hero               40762.5    False  \n",
       "375           Hero               40762.5    False  \n",
       "405         Yamaha               63656.9    False  \n",
       "449  Royal Enfield              128549.5    False  \n",
       "460         Yamaha               63656.9    False  \n",
       "463           Hero               40762.5    False  \n",
       "512           Hero               40762.5    False  \n",
       "531           Hero               40762.5    False  \n",
       "540           Hero               40762.5    False  \n",
       "545          Honda               44916.0    False  \n",
       "559           Hero               40762.5    False  \n",
       "657            TVS               46374.0    False  \n",
       "677         Yamaha               63656.9    False  \n",
       "690          Honda               44916.0    False  \n",
       "700         Yamaha               63656.9    False  \n",
       "702          Honda               44916.0    False  \n",
       "728         Yamaha               63656.9    False  \n",
       "759          Bajaj               44990.4    False  \n",
       "789           Hero               40762.5    False  \n",
       "813          Honda               44916.0    False  \n",
       "818         Yamaha               63656.9    False  \n",
       "841          Bajaj               44990.4    False  \n",
       "882  Royal Enfield              128549.5    False  \n",
       "930           Hero               40762.5    False  "
      ]
     },
     "execution_count": 25,
     "metadata": {},
     "output_type": "execute_result"
    }
   ],
   "source": [
    "df_profit = df[(df.selling_price > df.ex_showroom_price) & (df.Imputed == False)]\n",
    "df_profit"
   ]
  },
  {
   "cell_type": "code",
   "execution_count": 28,
   "metadata": {},
   "outputs": [
    {
     "name": "stderr",
     "output_type": "stream",
     "text": [
      "C:\\Users\\kiril\\AppData\\Local\\Temp\\ipykernel_8896\\2218412817.py:1: SettingWithCopyWarning: \n",
      "A value is trying to be set on a copy of a slice from a DataFrame.\n",
      "Try using .loc[row_indexer,col_indexer] = value instead\n",
      "\n",
      "See the caveats in the documentation: https://pandas.pydata.org/pandas-docs/stable/user_guide/indexing.html#returning-a-view-versus-a-copy\n",
      "  df_profit[\"price_difference\"] = df_profit[\"selling_price\"] - df_profit[\"ex_showroom_price\"]\n"
     ]
    }
   ],
   "source": [
    "df_profit[\"price_difference\"] = df_profit[\"selling_price\"] - df_profit[\"ex_showroom_price\"]\n"
   ]
  },
  {
   "cell_type": "code",
   "execution_count": 29,
   "metadata": {},
   "outputs": [
    {
     "data": {
      "application/vnd.microsoft.datawrangler.viewer.v0+json": {
       "columns": [
        {
         "name": "index",
         "rawType": "object",
         "type": "string"
        },
        {
         "name": "price_difference",
         "rawType": "float64",
         "type": "float"
        }
       ],
       "ref": "8c3996b5-6556-4670-9130-0ee2e942583b",
       "rows": [
        [
         "count",
         "41.0"
        ],
        [
         "mean",
         "8464.024390243903"
        ],
        [
         "std",
         "9292.852550449203"
        ],
        [
         "min",
         "156.0"
        ],
        [
         "25%",
         "1886.0"
        ],
        [
         "50%",
         "4443.0"
        ],
        [
         "75%",
         "11888.0"
        ],
        [
         "max",
         "34260.0"
        ]
       ],
       "shape": {
        "columns": 1,
        "rows": 8
       }
      },
      "text/plain": [
       "count       41.00000\n",
       "mean      8464.02439\n",
       "std       9292.85255\n",
       "min        156.00000\n",
       "25%       1886.00000\n",
       "50%       4443.00000\n",
       "75%      11888.00000\n",
       "max      34260.00000\n",
       "Name: price_difference, dtype: float64"
      ]
     },
     "execution_count": 29,
     "metadata": {},
     "output_type": "execute_result"
    }
   ],
   "source": [
    "df_profit[\"price_difference\"].describe()"
   ]
  },
  {
   "cell_type": "code",
   "execution_count": null,
   "metadata": {},
   "outputs": [
    {
     "data": {
      "application/vnd.microsoft.datawrangler.viewer.v0+json": {
       "columns": [
        {
         "name": "index",
         "rawType": "int64",
         "type": "integer"
        },
        {
         "name": "selling_price",
         "rawType": "float64",
         "type": "float"
        },
        {
         "name": "year",
         "rawType": "float64",
         "type": "float"
        },
        {
         "name": "seller_type",
         "rawType": "float64",
         "type": "float"
        },
        {
         "name": "owner",
         "rawType": "float64",
         "type": "float"
        },
        {
         "name": "km_driven",
         "rawType": "float64",
         "type": "float"
        },
        {
         "name": "ex_showroom_price",
         "rawType": "float64",
         "type": "float"
        },
        {
         "name": "manufacturer",
         "rawType": "object",
         "type": "string"
        },
        {
         "name": "manufacturer_encoded",
         "rawType": "float64",
         "type": "float"
        },
        {
         "name": "Imputed",
         "rawType": "bool",
         "type": "boolean"
        },
        {
         "name": "price_difference",
         "rawType": "float64",
         "type": "float"
        }
       ],
       "ref": "fd81f19b-7e09-4e75-a43b-2c39afadc8a1",
       "rows": [
        [
         "136",
         "190000.0",
         "2020.0",
         "1.0",
         "1.0",
         "500.0",
         "155740.0",
         "Royal Enfield",
         "128549.5",
         "False",
         "34260.0"
        ]
       ],
       "shape": {
        "columns": 10,
        "rows": 1
       }
      },
      "text/html": [
       "<div>\n",
       "<style scoped>\n",
       "    .dataframe tbody tr th:only-of-type {\n",
       "        vertical-align: middle;\n",
       "    }\n",
       "\n",
       "    .dataframe tbody tr th {\n",
       "        vertical-align: top;\n",
       "    }\n",
       "\n",
       "    .dataframe thead th {\n",
       "        text-align: right;\n",
       "    }\n",
       "</style>\n",
       "<table border=\"1\" class=\"dataframe\">\n",
       "  <thead>\n",
       "    <tr style=\"text-align: right;\">\n",
       "      <th></th>\n",
       "      <th>selling_price</th>\n",
       "      <th>year</th>\n",
       "      <th>seller_type</th>\n",
       "      <th>owner</th>\n",
       "      <th>km_driven</th>\n",
       "      <th>ex_showroom_price</th>\n",
       "      <th>manufacturer</th>\n",
       "      <th>manufacturer_encoded</th>\n",
       "      <th>Imputed</th>\n",
       "      <th>price_difference</th>\n",
       "    </tr>\n",
       "  </thead>\n",
       "  <tbody>\n",
       "    <tr>\n",
       "      <th>136</th>\n",
       "      <td>190000.0</td>\n",
       "      <td>2020.0</td>\n",
       "      <td>1.0</td>\n",
       "      <td>1.0</td>\n",
       "      <td>500.0</td>\n",
       "      <td>155740.0</td>\n",
       "      <td>Royal Enfield</td>\n",
       "      <td>128549.5</td>\n",
       "      <td>False</td>\n",
       "      <td>34260.0</td>\n",
       "    </tr>\n",
       "  </tbody>\n",
       "</table>\n",
       "</div>"
      ],
      "text/plain": [
       "     selling_price    year  seller_type  owner  km_driven  ex_showroom_price  \\\n",
       "136       190000.0  2020.0          1.0    1.0      500.0           155740.0   \n",
       "\n",
       "      manufacturer  manufacturer_encoded  Imputed  price_difference  \n",
       "136  Royal Enfield              128549.5    False           34260.0  "
      ]
     },
     "execution_count": 30,
     "metadata": {},
     "output_type": "execute_result"
    }
   ],
   "source": [
    "# Check real buying value of the case with biggest difference in price\n",
    "df_profit[df_profit.price_difference == 34260]"
   ]
  },
  {
   "attachments": {
    "image.png": {
     "image/png": "[encoded data removed]"
    }
   },
   "cell_type": "markdown",
   "metadata": {},
   "source": [
    "Despite the fact that some bikes cost more nowadays than their original price, none of the owners probably got any real value from it, as the inflation last years was quite big\n",
    "\n",
    "https://www.bls.gov/data/inflation_calculator.htm\n",
    "\n",
    "![image.png](attachment:image.png)"
   ]
  },
  {
   "cell_type": "markdown",
   "metadata": {},
   "source": [
    "Let's see now how years are distributed:"
   ]
  },
  {
   "cell_type": "code",
   "execution_count": 62,
   "metadata": {},
   "outputs": [
    {
     "data": {
      "text/plain": [
       "<AxesSubplot: xlabel='year'>"
      ]
     },
     "execution_count": 62,
     "metadata": {},
     "output_type": "execute_result"
    },
    {
     "data": {
      "image/png": "[encoded data removed]",
      "text/plain": [
       "<Figure size 640x480 with 1 Axes>"
      ]
     },
     "metadata": {},
     "output_type": "display_data"
    }
   ],
   "source": [
    "top15_years = df['year'].value_counts().nlargest(15)\n",
    "\n",
    "plt.xticks(rotation=35)\n",
    "sns.barplot(x=top15_years.index, y=top15_years.values, palette=\"viridis\")"
   ]
  },
  {
   "cell_type": "markdown",
   "metadata": {},
   "source": [
    "So the majority of the bikes are made in last 5 years (if dataset was scraped in 2020)"
   ]
  },
  {
   "cell_type": "code",
   "execution_count": 65,
   "metadata": {},
   "outputs": [
    {
     "data": {
      "application/vnd.microsoft.datawrangler.viewer.v0+json": {
       "columns": [
        {
         "name": "index",
         "rawType": "int64",
         "type": "integer"
        },
        {
         "name": "selling_price",
         "rawType": "float64",
         "type": "float"
        },
        {
         "name": "year",
         "rawType": "float64",
         "type": "float"
        },
        {
         "name": "seller_type",
         "rawType": "float64",
         "type": "float"
        },
        {
         "name": "owner",
         "rawType": "float64",
         "type": "float"
        },
        {
         "name": "km_driven",
         "rawType": "float64",
         "type": "float"
        },
        {
         "name": "ex_showroom_price",
         "rawType": "float64",
         "type": "float"
        },
        {
         "name": "manufacturer",
         "rawType": "object",
         "type": "string"
        },
        {
         "name": "manufacturer_encoded",
         "rawType": "float64",
         "type": "float"
        },
        {
         "name": "Imputed",
         "rawType": "bool",
         "type": "boolean"
        }
       ],
       "ref": "a3b31afe-e61a-4f8f-b84b-161b24a16c6a",
       "rows": [
        [
         "0",
         "175000.0",
         "2019.0",
         "1.0",
         "1.0",
         "350.0",
         "169057.0",
         "Royal Enfield",
         "128549.5",
         "True"
        ],
        [
         "1",
         "45000.0",
         "2017.0",
         "1.0",
         "1.0",
         "5650.0",
         "58313.0",
         "Honda",
         "44916.0",
         "True"
        ],
        [
         "2",
         "150000.0",
         "2018.0",
         "1.0",
         "1.0",
         "12000.0",
         "148114.0",
         "Royal Enfield",
         "128549.5",
         "False"
        ],
        [
         "3",
         "65000.0",
         "2015.0",
         "1.0",
         "1.0",
         "23000.0",
         "89643.0",
         "Yamaha",
         "63656.9",
         "False"
        ],
        [
         "4",
         "20000.0",
         "2011.0",
         "1.0",
         "2.0",
         "21000.0",
         "49373.0",
         "Yamaha",
         "63656.9",
         "True"
        ],
        [
         "5",
         "18000.0",
         "2010.0",
         "1.0",
         "1.0",
         "60000.0",
         "53857.0",
         "Honda",
         "44916.0",
         "False"
        ],
        [
         "6",
         "78500.0",
         "2018.0",
         "1.0",
         "1.0",
         "17000.0",
         "87719.0",
         "Honda",
         "44916.0",
         "False"
        ],
        [
         "7",
         "180000.0",
         "2008.0",
         "1.0",
         "2.0",
         "39000.0",
         "164779.5",
         "Royal Enfield",
         "128549.5",
         "True"
        ],
        [
         "8",
         "30000.0",
         "2010.0",
         "1.0",
         "1.0",
         "32000.0",
         "64396.5",
         "Hero Honda",
         "24525.0",
         "True"
        ],
        [
         "9",
         "50000.0",
         "2016.0",
         "1.0",
         "1.0",
         "42000.0",
         "60122.0",
         "Bajaj",
         "44990.4",
         "False"
        ],
        [
         "10",
         "35000.0",
         "2015.0",
         "1.0",
         "1.0",
         "32000.0",
         "78712.0",
         "Yamaha",
         "63656.9",
         "False"
        ],
        [
         "11",
         "28000.0",
         "2016.0",
         "1.0",
         "2.0",
         "10000.0",
         "47255.0",
         "Honda",
         "44916.0",
         "False"
        ],
        [
         "12",
         "80000.0",
         "2018.0",
         "1.0",
         "1.0",
         "21178.0",
         "95955.0",
         "Bajaj",
         "44990.4",
         "False"
        ],
        [
         "13",
         "365000.0",
         "2019.0",
         "1.0",
         "1.0",
         "1127.0",
         "351680.0",
         "Yamaha",
         "63656.9",
         "False"
        ],
        [
         "14",
         "185000.0",
         "2020.0",
         "1.0",
         "1.0",
         "1700.0",
         "192063.5",
         "Jawa",
         "175000.0",
         "True"
        ],
        [
         "15",
         "25000.0",
         "2012.0",
         "1.0",
         "1.0",
         "55000.0",
         "58314.0",
         "Suzuki",
         "73800.0",
         "False"
        ],
        [
         "16",
         "25000.0",
         "2006.0",
         "1.0",
         "1.0",
         "27000.0",
         "54960.0",
         "Hero Honda",
         "24525.0",
         "True"
        ],
        [
         "17",
         "40000.0",
         "2010.0",
         "1.0",
         "2.0",
         "45000.0",
         "117926.0",
         "Yamaha",
         "63656.9",
         "False"
        ],
        [
         "18",
         "150000.0",
         "2018.0",
         "1.0",
         "1.0",
         "23000.0",
         "148114.0",
         "Royal Enfield",
         "128549.5",
         "False"
        ],
        [
         "19",
         "120000.0",
         "2018.0",
         "1.0",
         "1.0",
         "39000.0",
         "132680.0",
         "Yamaha",
         "63656.9",
         "False"
        ],
        [
         "20",
         "15000.0",
         "2008.0",
         "1.0",
         "1.0",
         "60000.0",
         "52062.0",
         "Hero",
         "40762.5",
         "True"
        ],
        [
         "21",
         "26000.0",
         "2016.0",
         "1.0",
         "1.0",
         "17450.0",
         "44389.0",
         "Honda",
         "44916.0",
         "False"
        ],
        [
         "22",
         "32000.0",
         "2013.0",
         "1.0",
         "2.0",
         "20696.0",
         "53900.0",
         "Honda",
         "44916.0",
         "False"
        ],
        [
         "23",
         "180000.0",
         "2019.0",
         "1.0",
         "1.0",
         "2000.0",
         "192063.5",
         "Jawa",
         "175000.0",
         "True"
        ],
        [
         "24",
         "110000.0",
         "2016.0",
         "1.0",
         "1.0",
         "20000.0",
         "147000.0",
         "Royal Enfield",
         "128549.5",
         "True"
        ],
        [
         "25",
         "25000.0",
         "2012.0",
         "1.0",
         "1.0",
         "35000.0",
         "56147.0",
         "Honda",
         "44916.0",
         "False"
        ],
        [
         "26",
         "80000.0",
         "2018.0",
         "1.0",
         "1.0",
         "15210.0",
         "87719.0",
         "TVS",
         "46374.0",
         "True"
        ],
        [
         "27",
         "42000.0",
         "2017.0",
         "1.0",
         "1.0",
         "24000.0",
         "44389.0",
         "Honda",
         "44916.0",
         "False"
        ],
        [
         "28",
         "40000.0",
         "2013.0",
         "1.0",
         "2.0",
         "35000.0",
         "84751.0",
         "Yamaha",
         "63656.9",
         "False"
        ],
        [
         "29",
         "21000.0",
         "2009.0",
         "1.0",
         "1.0",
         "10000.0",
         "47337.5",
         "Hero Honda",
         "24525.0",
         "True"
        ],
        [
         "30",
         "55000.0",
         "2017.0",
         "1.0",
         "1.0",
         "2500.0",
         "61600.0",
         "Hero",
         "40762.5",
         "False"
        ],
        [
         "31",
         "38000.0",
         "2013.0",
         "1.0",
         "1.0",
         "75000.0",
         "79432.0",
         "Yamaha",
         "63656.9",
         "False"
        ],
        [
         "32",
         "43000.0",
         "2016.0",
         "1.0",
         "2.0",
         "50000.0",
         "78350.0",
         "Hero",
         "40762.5",
         "False"
        ],
        [
         "33",
         "65000.0",
         "2018.0",
         "1.0",
         "1.0",
         "27000.0",
         "80256.5",
         "Honda",
         "44916.0",
         "True"
        ],
        [
         "34",
         "62000.0",
         "2019.0",
         "1.0",
         "1.0",
         "10000.0",
         "71049.0",
         "Honda",
         "44916.0",
         "False"
        ],
        [
         "35",
         "60000.0",
         "2018.0",
         "1.0",
         "1.0",
         "6502.0",
         "57557.0",
         "Honda",
         "44916.0",
         "False"
        ],
        [
         "36",
         "45000.0",
         "2018.0",
         "1.0",
         "1.0",
         "21000.0",
         "61600.0",
         "Hero",
         "40762.5",
         "False"
        ],
        [
         "37",
         "120000.0",
         "2016.0",
         "1.0",
         "1.0",
         "16000.0",
         "202310.0",
         "Honda",
         "44916.0",
         "False"
        ],
        [
         "38",
         "30000.0",
         "2011.0",
         "1.0",
         "1.0",
         "42000.0",
         "51736.0",
         "Hero Honda",
         "24525.0",
         "True"
        ],
        [
         "39",
         "90000.0",
         "2015.0",
         "1.0",
         "2.0",
         "13000.0",
         "178222.5",
         "Royal Enfield",
         "128549.5",
         "True"
        ],
        [
         "40",
         "125000.0",
         "2017.0",
         "1.0",
         "1.0",
         "12800.0",
         "165986.0",
         "Bajaj",
         "44990.4",
         "True"
        ],
        [
         "41",
         "50000.0",
         "2018.0",
         "1.0",
         "1.0",
         "20000.0",
         "71150.0",
         "Hero",
         "40762.5",
         "False"
        ],
        [
         "42",
         "175000.0",
         "2017.0",
         "1.0",
         "1.0",
         "4600.0",
         "192063.5",
         "KTM",
         "155708.3",
         "True"
        ],
        [
         "43",
         "28000.0",
         "2012.0",
         "1.0",
         "1.0",
         "81000.0",
         "56750.0",
         "Hero",
         "40762.5",
         "False"
        ],
        [
         "44",
         "85000.0",
         "2018.0",
         "1.0",
         "1.0",
         "8000.0",
         "84042.0",
         "Yamaha",
         "63656.9",
         "False"
        ],
        [
         "45",
         "29900.0",
         "2016.0",
         "1.0",
         "1.0",
         "55000.0",
         "69750.0",
         "Hero",
         "40762.5",
         "False"
        ],
        [
         "46",
         "25000.0",
         "2011.0",
         "1.0",
         "1.0",
         "57000.0",
         "60122.0",
         "Bajaj",
         "44990.4",
         "False"
        ],
        [
         "47",
         "30000.0",
         "2009.0",
         "1.0",
         "2.0",
         "26000.0",
         "78712.0",
         "Yamaha",
         "63656.9",
         "False"
        ],
        [
         "48",
         "60000.0",
         "2018.0",
         "1.0",
         "1.0",
         "13000.0",
         "59844.0",
         "Yamaha",
         "63656.9",
         "False"
        ],
        [
         "49",
         "35000.0",
         "2012.0",
         "1.0",
         "2.0",
         "29000.0",
         "78712.0",
         "Yamaha",
         "63656.9",
         "False"
        ]
       ],
       "shape": {
        "columns": 9,
        "rows": 1053
       }
      },
      "text/html": [
       "<div>\n",
       "<style scoped>\n",
       "    .dataframe tbody tr th:only-of-type {\n",
       "        vertical-align: middle;\n",
       "    }\n",
       "\n",
       "    .dataframe tbody tr th {\n",
       "        vertical-align: top;\n",
       "    }\n",
       "\n",
       "    .dataframe thead th {\n",
       "        text-align: right;\n",
       "    }\n",
       "</style>\n",
       "<table border=\"1\" class=\"dataframe\">\n",
       "  <thead>\n",
       "    <tr style=\"text-align: right;\">\n",
       "      <th></th>\n",
       "      <th>selling_price</th>\n",
       "      <th>year</th>\n",
       "      <th>seller_type</th>\n",
       "      <th>owner</th>\n",
       "      <th>km_driven</th>\n",
       "      <th>ex_showroom_price</th>\n",
       "      <th>manufacturer</th>\n",
       "      <th>manufacturer_encoded</th>\n",
       "      <th>Imputed</th>\n",
       "    </tr>\n",
       "  </thead>\n",
       "  <tbody>\n",
       "    <tr>\n",
       "      <th>0</th>\n",
       "      <td>175000.0</td>\n",
       "      <td>2019.0</td>\n",
       "      <td>1.0</td>\n",
       "      <td>1.0</td>\n",
       "      <td>350.0</td>\n",
       "      <td>169057.0</td>\n",
       "      <td>Royal Enfield</td>\n",
       "      <td>128549.5</td>\n",
       "      <td>True</td>\n",
       "    </tr>\n",
       "    <tr>\n",
       "      <th>1</th>\n",
       "      <td>45000.0</td>\n",
       "      <td>2017.0</td>\n",
       "      <td>1.0</td>\n",
       "      <td>1.0</td>\n",
       "      <td>5650.0</td>\n",
       "      <td>58313.0</td>\n",
       "      <td>Honda</td>\n",
       "      <td>44916.0</td>\n",
       "      <td>True</td>\n",
       "    </tr>\n",
       "    <tr>\n",
       "      <th>2</th>\n",
       "      <td>150000.0</td>\n",
       "      <td>2018.0</td>\n",
       "      <td>1.0</td>\n",
       "      <td>1.0</td>\n",
       "      <td>12000.0</td>\n",
       "      <td>148114.0</td>\n",
       "      <td>Royal Enfield</td>\n",
       "      <td>128549.5</td>\n",
       "      <td>False</td>\n",
       "    </tr>\n",
       "    <tr>\n",
       "      <th>3</th>\n",
       "      <td>65000.0</td>\n",
       "      <td>2015.0</td>\n",
       "      <td>1.0</td>\n",
       "      <td>1.0</td>\n",
       "      <td>23000.0</td>\n",
       "      <td>89643.0</td>\n",
       "      <td>Yamaha</td>\n",
       "      <td>63656.9</td>\n",
       "      <td>False</td>\n",
       "    </tr>\n",
       "    <tr>\n",
       "      <th>4</th>\n",
       "      <td>20000.0</td>\n",
       "      <td>2011.0</td>\n",
       "      <td>1.0</td>\n",
       "      <td>2.0</td>\n",
       "      <td>21000.0</td>\n",
       "      <td>49373.0</td>\n",
       "      <td>Yamaha</td>\n",
       "      <td>63656.9</td>\n",
       "      <td>True</td>\n",
       "    </tr>\n",
       "    <tr>\n",
       "      <th>...</th>\n",
       "      <td>...</td>\n",
       "      <td>...</td>\n",
       "      <td>...</td>\n",
       "      <td>...</td>\n",
       "      <td>...</td>\n",
       "      <td>...</td>\n",
       "      <td>...</td>\n",
       "      <td>...</td>\n",
       "      <td>...</td>\n",
       "    </tr>\n",
       "    <tr>\n",
       "      <th>1056</th>\n",
       "      <td>17000.0</td>\n",
       "      <td>2010.0</td>\n",
       "      <td>1.0</td>\n",
       "      <td>1.0</td>\n",
       "      <td>500000.0</td>\n",
       "      <td>52000.0</td>\n",
       "      <td>Activa</td>\n",
       "      <td>34000.0</td>\n",
       "      <td>False</td>\n",
       "    </tr>\n",
       "    <tr>\n",
       "      <th>1057</th>\n",
       "      <td>16000.0</td>\n",
       "      <td>2012.0</td>\n",
       "      <td>1.0</td>\n",
       "      <td>1.0</td>\n",
       "      <td>33000.0</td>\n",
       "      <td>51000.0</td>\n",
       "      <td>Honda</td>\n",
       "      <td>44916.0</td>\n",
       "      <td>False</td>\n",
       "    </tr>\n",
       "    <tr>\n",
       "      <th>1058</th>\n",
       "      <td>15000.0</td>\n",
       "      <td>2013.0</td>\n",
       "      <td>1.0</td>\n",
       "      <td>2.0</td>\n",
       "      <td>35000.0</td>\n",
       "      <td>57000.0</td>\n",
       "      <td>Bajaj</td>\n",
       "      <td>44990.4</td>\n",
       "      <td>False</td>\n",
       "    </tr>\n",
       "    <tr>\n",
       "      <th>1059</th>\n",
       "      <td>12000.0</td>\n",
       "      <td>2009.0</td>\n",
       "      <td>1.0</td>\n",
       "      <td>1.0</td>\n",
       "      <td>53000.0</td>\n",
       "      <td>58000.0</td>\n",
       "      <td>Honda</td>\n",
       "      <td>44916.0</td>\n",
       "      <td>False</td>\n",
       "    </tr>\n",
       "    <tr>\n",
       "      <th>1060</th>\n",
       "      <td>10000.0</td>\n",
       "      <td>2008.0</td>\n",
       "      <td>1.0</td>\n",
       "      <td>1.0</td>\n",
       "      <td>92233.0</td>\n",
       "      <td>75000.0</td>\n",
       "      <td>Bajaj</td>\n",
       "      <td>44990.4</td>\n",
       "      <td>False</td>\n",
       "    </tr>\n",
       "  </tbody>\n",
       "</table>\n",
       "<p>1053 rows × 9 columns</p>\n",
       "</div>"
      ],
      "text/plain": [
       "      selling_price    year  seller_type  owner  km_driven  ex_showroom_price  \\\n",
       "0          175000.0  2019.0          1.0    1.0      350.0           169057.0   \n",
       "1           45000.0  2017.0          1.0    1.0     5650.0            58313.0   \n",
       "2          150000.0  2018.0          1.0    1.0    12000.0           148114.0   \n",
       "3           65000.0  2015.0          1.0    1.0    23000.0            89643.0   \n",
       "4           20000.0  2011.0          1.0    2.0    21000.0            49373.0   \n",
       "...             ...     ...          ...    ...        ...                ...   \n",
       "1056        17000.0  2010.0          1.0    1.0   500000.0            52000.0   \n",
       "1057        16000.0  2012.0          1.0    1.0    33000.0            51000.0   \n",
       "1058        15000.0  2013.0          1.0    2.0    35000.0            57000.0   \n",
       "1059        12000.0  2009.0          1.0    1.0    53000.0            58000.0   \n",
       "1060        10000.0  2008.0          1.0    1.0    92233.0            75000.0   \n",
       "\n",
       "       manufacturer  manufacturer_encoded  Imputed  \n",
       "0     Royal Enfield              128549.5     True  \n",
       "1             Honda               44916.0     True  \n",
       "2     Royal Enfield              128549.5    False  \n",
       "3            Yamaha               63656.9    False  \n",
       "4            Yamaha               63656.9     True  \n",
       "...             ...                   ...      ...  \n",
       "1056         Activa               34000.0    False  \n",
       "1057          Honda               44916.0    False  \n",
       "1058          Bajaj               44990.4    False  \n",
       "1059          Honda               44916.0    False  \n",
       "1060          Bajaj               44990.4    False  \n",
       "\n",
       "[1053 rows x 9 columns]"
      ]
     },
     "execution_count": 65,
     "metadata": {},
     "output_type": "execute_result"
    }
   ],
   "source": [
    "df"
   ]
  },
  {
   "attachments": {},
   "cell_type": "markdown",
   "metadata": {},
   "source": [
    "# Results and summary:"
   ]
  },
  {
   "attachments": {},
   "cell_type": "markdown",
   "metadata": {},
   "source": [
    "Selling price is more or less affected by all dimensions of the condition: mileage, age and even amount of owners. Usually, price goes down when any of these parameters rises.However, as we are in motorcycle domain, there are a lot exceptions, such as very rare old vehicles or classical motorcycles that people are willing to pay more.\n",
    "\n",
    "Another factor affecting the price is manufacturer (or class of the vehicle would be more correct term?). Some of them are producing bulk bikes, some focus on classic and others on luxury or sport. Every category would have its own price fork. \n",
    "\n",
    "The main factor highly correlating with selling price is vehicles previous showroom price, which is self explanatory and natural.\n",
    "\n",
    "There are some cases, when current price is more than previous one, but it is hard to say that anyone gets actual profit from such deals as it barely covers the inflation. Another thing related to this is that selling price is the price owner **asking** and probably in the most cases actual selling price would be lower.\n",
    "\n",
    "Most of the data comes from 2010-2019 and the most \"popular\" manufacturers are Bajaj, Honda, Hero, TVS, Yamaha. All of these are quite big manufacturers and could be classified as mass-market production, some of them are a little bit sportier but in general these are \"usual\" bikes with lower price. Surprising is that Royal Enfield is also on the list, as this company is more niche and produces Premium cruisers / retro bikes.\n",
    "\n",
    "Also now I'm thinking that there is one addition to limitations of the dataset: we don't know what are the websites where the data was scraped. For example, Bajaj is almost not present in US or EU market, so it has to be parsed from some Asian website. Same goes for EU and US brands. So can we now be sure that the currency is the same and we don't mix euros, dollars and rupees?"
   ]
  },
  {
   "attachments": {},
   "cell_type": "markdown",
   "metadata": {},
   "source": [
    "# Ideas for further improvements:"
   ]
  },
  {
   "attachments": {},
   "cell_type": "markdown",
   "metadata": {},
   "source": [
    "1. Gather more data from dealers\n",
    "2. Add source of the data while scraping - helps to verify data and understand distribution\n",
    "3. Add geographical information - which market and what region to find some relations \n",
    "4. Might be impossible to get, but getting actual selling price after the deal is closed would be quite interesting. It is then possible to compare with asked price and geography, for instance.\n",
    "5. Classify manufacturers or even certain bike models into categories. E.g. mass-market, sport eco, sport premium, classic, luxury and so on. "
   ]
  }
 ],
 "metadata": {
  "kernelspec": {
   "display_name": "Python 3",
   "language": "python",
   "name": "python3"
  },
  "language_info": {
   "codemirror_mode": {
    "name": "ipython",
    "version": 3
   },
   "file_extension": ".py",
   "mimetype": "text/x-python",
   "name": "python",
   "nbconvert_exporter": "python",
   "pygments_lexer": "ipython3",
   "version": "3.9.1"
  },
  "orig_nbformat": 4
 },
 "nbformat": 4,
 "nbformat_minor": 2
}
